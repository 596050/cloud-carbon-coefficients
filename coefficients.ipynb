{
 "cells": [
  {
   "cell_type": "markdown",
   "source": "# Cloud Carbon Coefficients\n\nThis notebook calculates the coefficients used in [Cloud Carbon Footprint](https://www.cloudcarbonfootprint.org/), an application that estimates the energy (kilowatt hours) and carbon emissions (metric tons CO2e) of public cloud provider utilization.",
   "metadata": {
    "tags": [],
    "cell_id": "00000-8646918d-c506-4d18-b057-3b5bb2e22266",
    "deepnote_cell_type": "markdown"
   }
  },
  {
   "cell_type": "markdown",
   "source": "#### Imports",
   "metadata": {
    "tags": [],
    "cell_id": "00001-f09ac78b-3251-466f-bab5-4c70958818e1",
    "deepnote_cell_type": "markdown"
   }
  },
  {
   "cell_type": "code",
   "metadata": {
    "tags": [],
    "cell_id": "00000-81948d95-fe93-4df9-b019-6c77253d192c",
    "deepnote_to_be_reexecuted": false,
    "source_hash": "6847ec8f",
    "execution_start": 1623959237431,
    "execution_millis": 2778,
    "deepnote_cell_type": "code"
   },
   "source": "%pip install -r requirements.txt\n\nimport csv\nimport numpy as np\nimport pandas as pd",
   "execution_count": 1,
   "outputs": [
    {
     "name": "stdout",
     "text": "Requirement already satisfied: pandas==1.2.4 in /shared-libs/python3.9/py/lib/python3.9/site-packages (from -r requirements.txt (line 1)) (1.2.4)\nRequirement already satisfied: numpy>=1.16.5 in /shared-libs/python3.9/py/lib/python3.9/site-packages (from pandas==1.2.4->-r requirements.txt (line 1)) (1.20.3)\nRequirement already satisfied: pytz>=2017.3 in /shared-libs/python3.9/py/lib/python3.9/site-packages (from pandas==1.2.4->-r requirements.txt (line 1)) (2021.1)\nRequirement already satisfied: python-dateutil>=2.7.3 in /shared-libs/python3.9/py-core/lib/python3.9/site-packages (from pandas==1.2.4->-r requirements.txt (line 1)) (2.8.1)\nRequirement already satisfied: six>=1.5 in /shared-libs/python3.9/py-core/lib/python3.9/site-packages (from python-dateutil>=2.7.3->pandas==1.2.4->-r requirements.txt (line 1)) (1.16.0)\n\u001b[33mWARNING: Running pip as root will break packages and permissions. You should install packages reliably by using venv: https://pip.pypa.io/warnings/venv\u001b[0m\nNote: you may need to restart the kernel to use updated packages.\n",
     "output_type": "stream"
    }
   ]
  },
  {
   "cell_type": "markdown",
   "source": "## Processor types\n\nProcessors are grouped into types by each vendor e.g. Intel Broadwell CPUs. Cloud providers provide the CPU types for each of their instance types, but not the precise CPU details. As such, we calculate the average wattage by processor type.",
   "metadata": {
    "tags": [],
    "cell_id": "00003-75c2fcce-9162-419d-9d58-6c99359ca4a0",
    "deepnote_cell_type": "markdown"
   }
  },
  {
   "cell_type": "code",
   "metadata": {
    "tags": [],
    "cell_id": "00004-0681c559-1bdf-41e8-89a2-f027601bc883",
    "deepnote_to_be_reexecuted": false,
    "source_hash": "9a533369",
    "execution_start": 1623959240211,
    "execution_millis": 9,
    "deepnote_cell_type": "code"
   },
   "source": "# Loads a CSV file then returns each row appended to an array\ndef load_append_data(file_name):\n    with open(f'data/{file_name}', 'r') as csvfile:\n        reader = csv.reader(csvfile)\n\n        data = []\n        for row in reader:\n            data.append(row[0])\n        \n        return data\n\ncpus_intel_sandybridge = load_append_data('intel-sandybridge.csv')\ncpus_intel_ivybridge = load_append_data('intel-ivybridge.csv')\ncpus_intel_haswell = load_append_data('intel-haswell.csv')\ncpus_intel_broadwell = load_append_data('intel-broadwell.csv')\ncpus_intel_skylake = load_append_data('intel-skylake.csv')\ncpus_intel_cascadelake = load_append_data('intel-cascadelake.csv')\ncpus_intel_coffeelake = load_append_data('intel-coffeelake.csv')",
   "execution_count": 2,
   "outputs": []
  },
  {
   "cell_type": "markdown",
   "source": "## Processor lists\n\nNow we know which processors are in which type, we can group all the tested servers by their CPU type to calculate: average idle watts, average watts at 100% utilization, average GB/chip.",
   "metadata": {
    "tags": [],
    "cell_id": "00005-db40944d-20c4-40a4-9bf0-ea23dceba42d",
    "deepnote_cell_type": "markdown"
   }
  },
  {
   "cell_type": "code",
   "metadata": {
    "tags": [],
    "cell_id": "00006-b89060db-ad18-4b2f-8a27-7474db756fa5",
    "deepnote_to_be_reexecuted": false,
    "source_hash": "e397b0d6",
    "execution_start": 1623959240227,
    "execution_millis": 13,
    "deepnote_cell_type": "code"
   },
   "source": "# Load all servers from SPECpower results CSV\nservers = pd.read_csv('data/SPECpower-full-results.csv', na_values=['NC'])",
   "execution_count": 3,
   "outputs": []
  },
  {
   "cell_type": "markdown",
   "source": "#### Regex match\n\nThe regex to match the CPU names matches to the end of the line using `$` because some chips have version numbers after, so we can't just do a substring match e.g. `Intel E3-1230` is a Sandy Bridge chip but `Intel E3-1230 v3` is Haswell.\n\n#### Clean data\n\nThe SPECpower results often appends extra info to the `CPU Description` column which is unecessary. For example, `Intel Xeon E5-2470 (Intel Turbo Boost Technology up to 3.10 GHz)`. This extra info needs to be stripped e.g. to `Intel Xeon E5-2470` otherwise the regex match will not work.\n\nThe check below will error if the data is not clean.",
   "metadata": {
    "tags": [],
    "cell_id": "00007-2e31f1f8-a36f-44f3-821c-d29884209fa9",
    "deepnote_cell_type": "markdown"
   }
  },
  {
   "cell_type": "code",
   "source": "if len(servers[servers['CPU Description'].str.contains('Ghz')]) > 0:\n    print('Data not clean')\n    import sys\n    sys.exit(1)",
   "metadata": {
    "tags": [],
    "cell_id": "00008-738bc5cd-aa52-43bb-96d6-45a0b0d6e6df",
    "deepnote_to_be_reexecuted": false,
    "source_hash": "97084bc5",
    "execution_start": 1623959240286,
    "execution_millis": 0,
    "deepnote_cell_type": "code"
   },
   "outputs": [],
   "execution_count": 4
  },
  {
   "cell_type": "markdown",
   "source": "### Intel: Sandy Bridge",
   "metadata": {
    "tags": [],
    "cell_id": "00007-d171c681-61e3-4e0e-90a0-2757d69b61c2",
    "deepnote_cell_type": "markdown"
   }
  },
  {
   "cell_type": "code",
   "metadata": {
    "tags": [],
    "cell_id": "00010-6c076149-b7e1-41c9-9f3f-d2b29f14b5db",
    "deepnote_to_be_reexecuted": false,
    "source_hash": "f2575413",
    "allow_embed": false,
    "execution_start": 1623959240330,
    "execution_millis": 27,
    "deepnote_cell_type": "code"
   },
   "source": "# Construct regex to match the chip name exactly to the end of the line\n# (See notes above on regex and clean data)\ncpus_re = [rf'(\\b{string}$)' for string in cpus_intel_sandybridge]\nservers_intel_sandybridge = servers[servers['CPU Description'].str.contains('|'.join(cpus_re))]\n\nintel_sandybridge = {}\nintel_sandybridge['idle_watts'] = (servers_intel_sandybridge['avg. watts @ active idle'].astype(float) / servers_intel_sandybridge['Total Threads']).mean()\nintel_sandybridge['100% watts'] = (servers_intel_sandybridge['avg. watts @ 100%'].astype(float) / servers_intel_sandybridge['Total Threads']).mean()\nintel_sandybridge['GB/Chip'] = (servers_intel_sandybridge['Total Memory (GB)'] / servers_intel_sandybridge['Chips']).mean()\nintel_sandybridge",
   "execution_count": 5,
   "outputs": [
    {
     "name": "stderr",
     "text": "/shared-libs/python3.9/py/lib/python3.9/site-packages/pandas/core/strings/accessor.py:101: UserWarning: This pattern has match groups. To actually get the groups, use str.extract.\n  return func(self, *args, **kwargs)\n",
     "output_type": "stream"
    },
    {
     "output_type": "execute_result",
     "execution_count": 5,
     "data": {
      "text/plain": "{'idle_watts': 2.1694411458333334,\n '100% watts': 8.575357663690477,\n 'GB/Chip': 16.480916030534353}"
     },
     "metadata": {}
    }
   ]
  },
  {
   "cell_type": "markdown",
   "source": "### Intel: Ivy Bridge",
   "metadata": {
    "tags": [],
    "cell_id": "00008-634290e8-e711-476c-8bf6-9cdf4d58a406",
    "deepnote_cell_type": "markdown"
   }
  },
  {
   "cell_type": "code",
   "metadata": {
    "tags": [],
    "cell_id": "00008-acf36f9b-0eeb-4d0d-8cc6-7b4d4d586946",
    "deepnote_to_be_reexecuted": false,
    "source_hash": "815c126b",
    "execution_start": 1623959240406,
    "execution_millis": 98,
    "deepnote_cell_type": "code"
   },
   "source": "# Construct regex to match the chip name exactly to the end of the line\n# (See notes above on regex and clean data)\ncpus_re = [rf'(\\b{string}$)' for string in cpus_intel_ivybridge]\nservers_intel_ivybridge = servers[servers['CPU Description'].str.contains('|'.join(cpus_re))]\n\nintel_ivybridge = {}\nintel_ivybridge['idle_watts'] = (servers_intel_ivybridge['avg. watts @ active idle'].astype(float) / servers_intel_ivybridge['Total Threads']).mean()\nintel_ivybridge['100% watts'] = (servers_intel_ivybridge['avg. watts @ 100%'].astype(float) / servers_intel_ivybridge['Total Threads']).mean()\nintel_ivybridge['GB/Chip'] = (servers_intel_ivybridge['Total Memory (GB)'] / servers_intel_ivybridge['Chips']).mean()\nservers_intel_ivybridge",
   "execution_count": 6,
   "outputs": [
    {
     "output_type": "execute_result",
     "execution_count": 6,
     "data": {
      "application/vnd.deepnote.dataframe.v2+json": {
       "row_count": 24,
       "column_count": 22,
       "columns": [
        {
         "name": "Hardware Vendor Test Sponsor",
         "dtype": "object",
         "stats": {
          "unique_count": 7,
          "nan_count": 0,
          "categories": [
           {
            "name": "Fujitsu",
            "count": 6
           },
           {
            "name": "Dell Inc.",
            "count": 6
           },
           {
            "name": "5 others",
            "count": 12
           }
          ]
         }
        },
        {
         "name": "System Enclosure (if applicable)",
         "dtype": "object",
         "stats": {
          "unique_count": 23,
          "nan_count": 0,
          "categories": [
           {
            "name": "Tecal CH121 Huawei Tecal E9000",
            "count": 2
           },
           {
            "name": "HA8000/RS110 (DL2)",
            "count": 1
           },
           {
            "name": "21 others",
            "count": 21
           }
          ]
         }
        },
        {
         "name": "Date Submitted",
         "dtype": "object",
         "stats": {
          "unique_count": 12,
          "nan_count": 0,
          "categories": [
           {
            "name": "Oct 2, 2013",
            "count": 8
           },
           {
            "name": "Mar 20, 2013",
            "count": 2
           },
           {
            "name": "10 others",
            "count": 14
           }
          ]
         }
        },
        {
         "name": "Nodes",
         "dtype": "float64",
         "stats": {
          "unique_count": 7,
          "nan_count": 0,
          "min": "1.0",
          "max": "18.0",
          "histogram": [
           {
            "bin_start": 1,
            "bin_end": 2.7,
            "count": 16
           },
           {
            "bin_start": 2.7,
            "bin_end": 4.4,
            "count": 0
           },
           {
            "bin_start": 4.4,
            "bin_end": 6.1,
            "count": 1
           },
           {
            "bin_start": 6.1,
            "bin_end": 7.8,
            "count": 0
           },
           {
            "bin_start": 7.8,
            "bin_end": 9.5,
            "count": 2
           },
           {
            "bin_start": 9.5,
            "bin_end": 11.2,
            "count": 0
           },
           {
            "bin_start": 11.2,
            "bin_end": 12.9,
            "count": 2
           },
           {
            "bin_start": 12.9,
            "bin_end": 14.6,
            "count": 0
           },
           {
            "bin_start": 14.6,
            "bin_end": 16.299999999999997,
            "count": 2
           },
           {
            "bin_start": 16.299999999999997,
            "bin_end": 18,
            "count": 1
           }
          ]
         }
        },
        {
         "name": "JVM Vendor",
         "dtype": "object",
         "stats": {
          "unique_count": 2,
          "nan_count": 0,
          "categories": [
           {
            "name": "IBM Corporation",
            "count": 23
           },
           {
            "name": "Oracle Corporation",
            "count": 1
           }
          ]
         }
        },
        {
         "name": "CPU Description",
         "dtype": "object",
         "stats": {
          "unique_count": 6,
          "nan_count": 0,
          "categories": [
           {
            "name": "Intel Xeon E5-2660 v2",
            "count": 15
           },
           {
            "name": "Intel Xeon E5-2470 v2",
            "count": 3
           },
           {
            "name": "4 others",
            "count": 6
           }
          ]
         }
        },
        {
         "name": "MHz",
         "dtype": "int64",
         "stats": {
          "unique_count": 5,
          "nan_count": 0,
          "min": "2200",
          "max": "3600",
          "histogram": [
           {
            "bin_start": 2200,
            "bin_end": 2340,
            "count": 16
           },
           {
            "bin_start": 2340,
            "bin_end": 2480,
            "count": 5
           },
           {
            "bin_start": 2480,
            "bin_end": 2620,
            "count": 0
           },
           {
            "bin_start": 2620,
            "bin_end": 2760,
            "count": 0
           },
           {
            "bin_start": 2760,
            "bin_end": 2900,
            "count": 0
           },
           {
            "bin_start": 2900,
            "bin_end": 3040,
            "count": 0
           },
           {
            "bin_start": 3040,
            "bin_end": 3180,
            "count": 1
           },
           {
            "bin_start": 3180,
            "bin_end": 3320,
            "count": 0
           },
           {
            "bin_start": 3320,
            "bin_end": 3460,
            "count": 0
           },
           {
            "bin_start": 3460,
            "bin_end": 3600,
            "count": 2
           }
          ]
         }
        },
        {
         "name": "Chips",
         "dtype": "int64",
         "stats": {
          "unique_count": 8,
          "nan_count": 0,
          "min": "1",
          "max": "36",
          "histogram": [
           {
            "bin_start": 1,
            "bin_end": 4.5,
            "count": 16
           },
           {
            "bin_start": 4.5,
            "bin_end": 8,
            "count": 0
           },
           {
            "bin_start": 8,
            "bin_end": 11.5,
            "count": 0
           },
           {
            "bin_start": 11.5,
            "bin_end": 15,
            "count": 1
           },
           {
            "bin_start": 15,
            "bin_end": 18.5,
            "count": 1
           },
           {
            "bin_start": 18.5,
            "bin_end": 22,
            "count": 0
           },
           {
            "bin_start": 22,
            "bin_end": 25.5,
            "count": 2
           },
           {
            "bin_start": 25.5,
            "bin_end": 29,
            "count": 0
           },
           {
            "bin_start": 29,
            "bin_end": 32.5,
            "count": 3
           },
           {
            "bin_start": 32.5,
            "bin_end": 36,
            "count": 1
           }
          ]
         }
        },
        {
         "name": "Cores",
         "dtype": "int64",
         "stats": {
          "unique_count": 9,
          "nan_count": 0,
          "min": "4",
          "max": "360",
          "histogram": [
           {
            "bin_start": 4,
            "bin_end": 39.6,
            "count": 13
           },
           {
            "bin_start": 39.6,
            "bin_end": 75.2,
            "count": 3
           },
           {
            "bin_start": 75.2,
            "bin_end": 110.80000000000001,
            "count": 0
           },
           {
            "bin_start": 110.80000000000001,
            "bin_end": 146.4,
            "count": 1
           },
           {
            "bin_start": 146.4,
            "bin_end": 182,
            "count": 1
           },
           {
            "bin_start": 182,
            "bin_end": 217.60000000000002,
            "count": 0
           },
           {
            "bin_start": 217.60000000000002,
            "bin_end": 253.20000000000002,
            "count": 2
           },
           {
            "bin_start": 253.20000000000002,
            "bin_end": 288.8,
            "count": 0
           },
           {
            "bin_start": 288.8,
            "bin_end": 324.40000000000003,
            "count": 3
           },
           {
            "bin_start": 324.40000000000003,
            "bin_end": 360,
            "count": 1
           }
          ]
         }
        },
        {
         "name": "Total Threads",
         "dtype": "int64",
         "stats": {
          "unique_count": 10,
          "nan_count": 0,
          "min": "4",
          "max": "720",
          "histogram": [
           {
            "bin_start": 4,
            "bin_end": 75.6,
            "count": 13
           },
           {
            "bin_start": 75.6,
            "bin_end": 147.2,
            "count": 3
           },
           {
            "bin_start": 147.2,
            "bin_end": 218.79999999999998,
            "count": 0
           },
           {
            "bin_start": 218.79999999999998,
            "bin_end": 290.4,
            "count": 1
           },
           {
            "bin_start": 290.4,
            "bin_end": 362,
            "count": 1
           },
           {
            "bin_start": 362,
            "bin_end": 433.59999999999997,
            "count": 0
           },
           {
            "bin_start": 433.59999999999997,
            "bin_end": 505.19999999999993,
            "count": 2
           },
           {
            "bin_start": 505.19999999999993,
            "bin_end": 576.8,
            "count": 0
           },
           {
            "bin_start": 576.8,
            "bin_end": 648.4,
            "count": 3
           },
           {
            "bin_start": 648.4,
            "bin_end": 720,
            "count": 1
           }
          ]
         }
        },
        {
         "name": "Total Memory (GB)",
         "dtype": "int64",
         "stats": {
          "unique_count": 11,
          "nan_count": 0,
          "min": "8",
          "max": "864",
          "histogram": [
           {
            "bin_start": 8,
            "bin_end": 93.6,
            "count": 15
           },
           {
            "bin_start": 93.6,
            "bin_end": 179.2,
            "count": 2
           },
           {
            "bin_start": 179.2,
            "bin_end": 264.79999999999995,
            "count": 1
           },
           {
            "bin_start": 264.79999999999995,
            "bin_end": 350.4,
            "count": 2
           },
           {
            "bin_start": 350.4,
            "bin_end": 436,
            "count": 3
           },
           {
            "bin_start": 436,
            "bin_end": 521.5999999999999,
            "count": 0
           },
           {
            "bin_start": 521.5999999999999,
            "bin_end": 607.1999999999999,
            "count": 0
           },
           {
            "bin_start": 607.1999999999999,
            "bin_end": 692.8,
            "count": 0
           },
           {
            "bin_start": 692.8,
            "bin_end": 778.4,
            "count": 0
           },
           {
            "bin_start": 778.4,
            "bin_end": 864,
            "count": 1
           }
          ]
         }
        },
        {
         "name": "ssj_ops @ 100%",
         "dtype": "object",
         "stats": {
          "unique_count": 6,
          "nan_count": 18,
          "categories": [
           {
            "name": "494876",
            "count": 1
           },
           {
            "name": "5 others",
            "count": 5
           },
           {
            "name": "Missing",
            "count": 18
           }
          ]
         }
        },
        {
         "name": "avg. watts @ 100%",
         "dtype": "float64",
         "stats": {
          "unique_count": 6,
          "nan_count": 18,
          "min": "69.7",
          "max": "1732.0",
          "histogram": [
           {
            "bin_start": 69.7,
            "bin_end": 235.93,
            "count": 4
           },
           {
            "bin_start": 235.93,
            "bin_end": 402.15999999999997,
            "count": 0
           },
           {
            "bin_start": 402.15999999999997,
            "bin_end": 568.39,
            "count": 0
           },
           {
            "bin_start": 568.39,
            "bin_end": 734.62,
            "count": 0
           },
           {
            "bin_start": 734.62,
            "bin_end": 900.85,
            "count": 0
           },
           {
            "bin_start": 900.85,
            "bin_end": 1067.08,
            "count": 0
           },
           {
            "bin_start": 1067.08,
            "bin_end": 1233.31,
            "count": 0
           },
           {
            "bin_start": 1233.31,
            "bin_end": 1399.54,
            "count": 1
           },
           {
            "bin_start": 1399.54,
            "bin_end": 1565.77,
            "count": 0
           },
           {
            "bin_start": 1565.77,
            "bin_end": 1732,
            "count": 1
           }
          ]
         }
        },
        {
         "name": "avg. watts @ active idle",
         "dtype": "object",
         "stats": {
          "unique_count": 6,
          "nan_count": 18,
          "categories": [
           {
            "name": "45.8",
            "count": 1
           },
           {
            "name": "5 others",
            "count": 5
           },
           {
            "name": "Missing",
            "count": 18
           }
          ]
         }
        },
        {
         "name": "Result (Overall ssj_ops/watt)",
         "dtype": "float64",
         "stats": {
          "unique_count": 6,
          "nan_count": 18,
          "min": "3744.0",
          "max": "6453.0",
          "histogram": [
           {
            "bin_start": 3744,
            "bin_end": 4014.9,
            "count": 2
           },
           {
            "bin_start": 4014.9,
            "bin_end": 4285.8,
            "count": 0
           },
           {
            "bin_start": 4285.8,
            "bin_end": 4556.7,
            "count": 1
           },
           {
            "bin_start": 4556.7,
            "bin_end": 4827.6,
            "count": 0
           },
           {
            "bin_start": 4827.6,
            "bin_end": 5098.5,
            "count": 0
           },
           {
            "bin_start": 5098.5,
            "bin_end": 5369.4,
            "count": 1
           },
           {
            "bin_start": 5369.4,
            "bin_end": 5640.299999999999,
            "count": 0
           },
           {
            "bin_start": 5640.299999999999,
            "bin_end": 5911.2,
            "count": 0
           },
           {
            "bin_start": 5911.2,
            "bin_end": 6182.1,
            "count": 0
           },
           {
            "bin_start": 6182.1,
            "bin_end": 6453,
            "count": 2
           }
          ]
         }
        },
        {
         "name": "Sandy Bridge",
         "dtype": "object",
         "stats": {
          "unique_count": 1,
          "nan_count": 0,
          "categories": [
           {
            "name": "False",
            "count": 24
           }
          ]
         }
        },
        {
         "name": "Ivy Bridge",
         "dtype": "object",
         "stats": {
          "unique_count": 1,
          "nan_count": 0,
          "categories": [
           {
            "name": "True",
            "count": 24
           }
          ]
         }
        },
        {
         "name": "Haswell",
         "dtype": "object",
         "stats": {
          "unique_count": 1,
          "nan_count": 0,
          "categories": [
           {
            "name": "False",
            "count": 24
           }
          ]
         }
        },
        {
         "name": "Broadwell",
         "dtype": "object",
         "stats": {
          "unique_count": 1,
          "nan_count": 0,
          "categories": [
           {
            "name": "False",
            "count": 24
           }
          ]
         }
        },
        {
         "name": "Skylake",
         "dtype": "object",
         "stats": {
          "unique_count": 1,
          "nan_count": 0,
          "categories": [
           {
            "name": "False",
            "count": 24
           }
          ]
         }
        },
        {
         "name": "Cascade Lake",
         "dtype": "object",
         "stats": {
          "unique_count": 1,
          "nan_count": 0,
          "categories": [
           {
            "name": "False",
            "count": 24
           }
          ]
         }
        },
        {
         "name": "Coffee Lake",
         "dtype": "object",
         "stats": {
          "unique_count": 1,
          "nan_count": 0,
          "categories": [
           {
            "name": "False",
            "count": 24
           }
          ]
         }
        },
        {
         "name": "_deepnote_index_column",
         "dtype": "int64"
        }
       ],
       "rows_top": [
        {
         "Hardware Vendor Test Sponsor": "Hitachi, Ltd.",
         "System Enclosure (if applicable)": "HA8000/RS110 (DL2)",
         "Date Submitted": "Mar 6, 2013",
         "Nodes": 1,
         "JVM Vendor": "IBM Corporation",
         "CPU Description": "Intel Xeon E3-1280 v2",
         "MHz": 3600,
         "Chips": 1,
         "Cores": 4,
         "Total Threads": 8,
         "Total Memory (GB)": 8,
         "ssj_ops @ 100%": "494876",
         "avg. watts @ 100%": 94,
         "avg. watts @ active idle": "45.8",
         "Result (Overall ssj_ops/watt)": 3744,
         "Sandy Bridge": "False",
         "Ivy Bridge": "True",
         "Haswell": "False",
         "Broadwell": "False",
         "Skylake": "False",
         "Cascade Lake": "False",
         "Coffee Lake": "False",
         "_deepnote_index_column": 427
        },
        {
         "Hardware Vendor Test Sponsor": "Hitachi, Ltd.",
         "System Enclosure (if applicable)": "HA8000/SS10 (DL2)",
         "Date Submitted": "Mar 20, 2013",
         "Nodes": 1,
         "JVM Vendor": "IBM Corporation",
         "CPU Description": "Intel Xeon E3-1220 v2",
         "MHz": 3100,
         "Chips": 1,
         "Cores": 4,
         "Total Threads": 4,
         "Total Memory (GB)": 8,
         "ssj_ops @ 100%": "407490",
         "avg. watts @ 100%": 69.7,
         "avg. watts @ active idle": "36.6",
         "Result (Overall ssj_ops/watt)": 3963,
         "Sandy Bridge": "False",
         "Ivy Bridge": "True",
         "Haswell": "False",
         "Broadwell": "False",
         "Skylake": "False",
         "Cascade Lake": "False",
         "Coffee Lake": "False",
         "_deepnote_index_column": 428
        },
        {
         "Hardware Vendor Test Sponsor": "Hitachi, Ltd.",
         "System Enclosure (if applicable)": "HA8000/TS10 (DL2)",
         "Date Submitted": "Mar 20, 2013",
         "Nodes": 1,
         "JVM Vendor": "IBM Corporation",
         "CPU Description": "Intel Xeon E3-1280 v2",
         "MHz": 3600,
         "Chips": 1,
         "Cores": 4,
         "Total Threads": 8,
         "Total Memory (GB)": 8,
         "ssj_ops @ 100%": "495083",
         "avg. watts @ 100%": 85.2,
         "avg. watts @ active idle": "37.2",
         "Result (Overall ssj_ops/watt)": 4342,
         "Sandy Bridge": "False",
         "Ivy Bridge": "True",
         "Haswell": "False",
         "Broadwell": "False",
         "Skylake": "False",
         "Cascade Lake": "False",
         "Coffee Lake": "False",
         "_deepnote_index_column": 429
        },
        {
         "Hardware Vendor Test Sponsor": "Fujitsu",
         "System Enclosure (if applicable)": "PRIMERGY RX300 S8 (Intel Xeon E5-2660 v2)",
         "Date Submitted": "Oct 2, 2013",
         "Nodes": 1,
         "JVM Vendor": "IBM Corporation",
         "CPU Description": "Intel Xeon E5-2660 v2",
         "MHz": 2200,
         "Chips": 2,
         "Cores": 20,
         "Total Threads": 40,
         "Total Memory (GB)": 48,
         "ssj_ops @ 100%": "nan",
         "avg. watts @ 100%": "nan",
         "avg. watts @ active idle": "nan",
         "Result (Overall ssj_ops/watt)": "nan",
         "Sandy Bridge": "False",
         "Ivy Bridge": "True",
         "Haswell": "False",
         "Broadwell": "False",
         "Skylake": "False",
         "Cascade Lake": "False",
         "Coffee Lake": "False",
         "_deepnote_index_column": 445
        },
        {
         "Hardware Vendor Test Sponsor": "Fujitsu",
         "System Enclosure (if applicable)": "PRIMERGY RX350 S8 (Intel Xeon E5-2660 v2)",
         "Date Submitted": "Oct 2, 2013",
         "Nodes": 1,
         "JVM Vendor": "IBM Corporation",
         "CPU Description": "Intel Xeon E5-2660 v2",
         "MHz": 2200,
         "Chips": 2,
         "Cores": 20,
         "Total Threads": 40,
         "Total Memory (GB)": 48,
         "ssj_ops @ 100%": "nan",
         "avg. watts @ 100%": "nan",
         "avg. watts @ active idle": "nan",
         "Result (Overall ssj_ops/watt)": "nan",
         "Sandy Bridge": "False",
         "Ivy Bridge": "True",
         "Haswell": "False",
         "Broadwell": "False",
         "Skylake": "False",
         "Cascade Lake": "False",
         "Coffee Lake": "False",
         "_deepnote_index_column": 446
        },
        {
         "Hardware Vendor Test Sponsor": "Fujitsu",
         "System Enclosure (if applicable)": "PRIMERGY TX300 S8 (Intel Xeon E5-2660 v2)",
         "Date Submitted": "Oct 2, 2013",
         "Nodes": 1,
         "JVM Vendor": "IBM Corporation",
         "CPU Description": "Intel Xeon E5-2660 v2",
         "MHz": 2200,
         "Chips": 2,
         "Cores": 20,
         "Total Threads": 40,
         "Total Memory (GB)": 48,
         "ssj_ops @ 100%": "nan",
         "avg. watts @ 100%": "nan",
         "avg. watts @ active idle": "nan",
         "Result (Overall ssj_ops/watt)": "nan",
         "Sandy Bridge": "False",
         "Ivy Bridge": "True",
         "Haswell": "False",
         "Broadwell": "False",
         "Skylake": "False",
         "Cascade Lake": "False",
         "Coffee Lake": "False",
         "_deepnote_index_column": 447
        },
        {
         "Hardware Vendor Test Sponsor": "Fujitsu",
         "System Enclosure (if applicable)": "PRIMERGY RX200 S8 (Intel Xeon E5-2660 v2)",
         "Date Submitted": "Oct 2, 2013",
         "Nodes": 1,
         "JVM Vendor": "IBM Corporation",
         "CPU Description": "Intel Xeon E5-2660 v2",
         "MHz": 2200,
         "Chips": 2,
         "Cores": 20,
         "Total Threads": 40,
         "Total Memory (GB)": 48,
         "ssj_ops @ 100%": "nan",
         "avg. watts @ 100%": "nan",
         "avg. watts @ active idle": "nan",
         "Result (Overall ssj_ops/watt)": "nan",
         "Sandy Bridge": "False",
         "Ivy Bridge": "True",
         "Haswell": "False",
         "Broadwell": "False",
         "Skylake": "False",
         "Cascade Lake": "False",
         "Coffee Lake": "False",
         "_deepnote_index_column": 448
        },
        {
         "Hardware Vendor Test Sponsor": "IBM Corporation",
         "System Enclosure (if applicable)": "IBM NeXtScale nx360 M4 IBM NeXtScale n1200 Enclosure",
         "Date Submitted": "Oct 2, 2013",
         "Nodes": 12,
         "JVM Vendor": "IBM Corporation",
         "CPU Description": "Intel Xeon E5-2660 v2",
         "MHz": 2200,
         "Chips": 24,
         "Cores": 240,
         "Total Threads": 480,
         "Total Memory (GB)": 288,
         "ssj_ops @ 100%": "nan",
         "avg. watts @ 100%": "nan",
         "avg. watts @ active idle": "nan",
         "Result (Overall ssj_ops/watt)": "nan",
         "Sandy Bridge": "False",
         "Ivy Bridge": "True",
         "Haswell": "False",
         "Broadwell": "False",
         "Skylake": "False",
         "Cascade Lake": "False",
         "Coffee Lake": "False",
         "_deepnote_index_column": 449
        },
        {
         "Hardware Vendor Test Sponsor": "IBM Corporation",
         "System Enclosure (if applicable)": "IBM System x3650 M4",
         "Date Submitted": "Oct 2, 2013",
         "Nodes": 1,
         "JVM Vendor": "IBM Corporation",
         "CPU Description": "Intel Xeon E5-2660 v2",
         "MHz": 2200,
         "Chips": 2,
         "Cores": 20,
         "Total Threads": 40,
         "Total Memory (GB)": 64,
         "ssj_ops @ 100%": "nan",
         "avg. watts @ 100%": "nan",
         "avg. watts @ active idle": "nan",
         "Result (Overall ssj_ops/watt)": "nan",
         "Sandy Bridge": "False",
         "Ivy Bridge": "True",
         "Haswell": "False",
         "Broadwell": "False",
         "Skylake": "False",
         "Cascade Lake": "False",
         "Coffee Lake": "False",
         "_deepnote_index_column": 450
        },
        {
         "Hardware Vendor Test Sponsor": "IBM Corporation",
         "System Enclosure (if applicable)": "IBM System x3500 M4",
         "Date Submitted": "Oct 2, 2013",
         "Nodes": 1,
         "JVM Vendor": "IBM Corporation",
         "CPU Description": "Intel Xeon E5-2660 v2",
         "MHz": 2200,
         "Chips": 2,
         "Cores": 20,
         "Total Threads": 40,
         "Total Memory (GB)": 32,
         "ssj_ops @ 100%": "nan",
         "avg. watts @ 100%": "nan",
         "avg. watts @ active idle": "nan",
         "Result (Overall ssj_ops/watt)": "nan",
         "Sandy Bridge": "False",
         "Ivy Bridge": "True",
         "Haswell": "False",
         "Broadwell": "False",
         "Skylake": "False",
         "Cascade Lake": "False",
         "Coffee Lake": "False",
         "_deepnote_index_column": 451
        },
        {
         "Hardware Vendor Test Sponsor": "IBM Corporation",
         "System Enclosure (if applicable)": "IBM System x iDataPlex dx360 M4 iDataPlex dx360 M4 2U Chassis",
         "Date Submitted": "Oct 2, 2013",
         "Nodes": 2,
         "JVM Vendor": "IBM Corporation",
         "CPU Description": "Intel Xeon E5-2660 v2",
         "MHz": 2200,
         "Chips": 4,
         "Cores": 40,
         "Total Threads": 80,
         "Total Memory (GB)": 48,
         "ssj_ops @ 100%": "nan",
         "avg. watts @ 100%": "nan",
         "avg. watts @ active idle": "nan",
         "Result (Overall ssj_ops/watt)": "nan",
         "Sandy Bridge": "False",
         "Ivy Bridge": "True",
         "Haswell": "False",
         "Broadwell": "False",
         "Skylake": "False",
         "Cascade Lake": "False",
         "Coffee Lake": "False",
         "_deepnote_index_column": 452
        },
        {
         "Hardware Vendor Test Sponsor": "Dell Inc.",
         "System Enclosure (if applicable)": "PowerEdge M620 (Intel Xeon E5-2660 v2,) Dell PowerEdge M1000e",
         "Date Submitted": "Oct 16, 2013",
         "Nodes": 16,
         "JVM Vendor": "IBM Corporation",
         "CPU Description": "Intel Xeon E5-2660 v2",
         "MHz": 2200,
         "Chips": 32,
         "Cores": 320,
         "Total Threads": 640,
         "Total Memory (GB)": 384,
         "ssj_ops @ 100%": "nan",
         "avg. watts @ 100%": "nan",
         "avg. watts @ active idle": "nan",
         "Result (Overall ssj_ops/watt)": "nan",
         "Sandy Bridge": "False",
         "Ivy Bridge": "True",
         "Haswell": "False",
         "Broadwell": "False",
         "Skylake": "False",
         "Cascade Lake": "False",
         "Coffee Lake": "False",
         "_deepnote_index_column": 454
        },
        {
         "Hardware Vendor Test Sponsor": "Huawei Technologies Co., Ltd",
         "System Enclosure (if applicable)": "Tecal CH121 Huawei Tecal E9000",
         "Date Submitted": "Oct 21, 2013",
         "Nodes": 6,
         "JVM Vendor": "IBM Corporation",
         "CPU Description": "Intel Xeon E5-2660 v2",
         "MHz": 2200,
         "Chips": 12,
         "Cores": 120,
         "Total Threads": 240,
         "Total Memory (GB)": 144,
         "ssj_ops @ 100%": "10356616",
         "avg. watts @ 100%": 1310,
         "avg. watts @ active idle": "334",
         "Result (Overall ssj_ops/watt)": 6309,
         "Sandy Bridge": "False",
         "Ivy Bridge": "True",
         "Haswell": "False",
         "Broadwell": "False",
         "Skylake": "False",
         "Cascade Lake": "False",
         "Coffee Lake": "False",
         "_deepnote_index_column": 456
        },
        {
         "Hardware Vendor Test Sponsor": "Huawei Technologies Co., Ltd",
         "System Enclosure (if applicable)": "Tecal CH121 Huawei Tecal E9000",
         "Date Submitted": "Oct 21, 2013",
         "Nodes": 8,
         "JVM Vendor": "IBM Corporation",
         "CPU Description": "Intel Xeon E5-2660 v2",
         "MHz": 2200,
         "Chips": 16,
         "Cores": 160,
         "Total Threads": 320,
         "Total Memory (GB)": 192,
         "ssj_ops @ 100%": "13828286",
         "avg. watts @ 100%": 1732,
         "avg. watts @ active idle": "417",
         "Result (Overall ssj_ops/watt)": 6453,
         "Sandy Bridge": "False",
         "Ivy Bridge": "True",
         "Haswell": "False",
         "Broadwell": "False",
         "Skylake": "False",
         "Cascade Lake": "False",
         "Coffee Lake": "False",
         "_deepnote_index_column": 457
        },
        {
         "Hardware Vendor Test Sponsor": "Dell Inc.",
         "System Enclosure (if applicable)": "PowerEdge R620 (Intel Xeon E5-2660 v2)",
         "Date Submitted": "Nov 13, 2013",
         "Nodes": 1,
         "JVM Vendor": "IBM Corporation",
         "CPU Description": "Intel Xeon E5-2660 v2",
         "MHz": 2200,
         "Chips": 2,
         "Cores": 20,
         "Total Threads": 40,
         "Total Memory (GB)": 24,
         "ssj_ops @ 100%": "nan",
         "avg. watts @ 100%": "nan",
         "avg. watts @ active idle": "nan",
         "Result (Overall ssj_ops/watt)": "nan",
         "Sandy Bridge": "False",
         "Ivy Bridge": "True",
         "Haswell": "False",
         "Broadwell": "False",
         "Skylake": "False",
         "Cascade Lake": "False",
         "Coffee Lake": "False",
         "_deepnote_index_column": 459
        },
        {
         "Hardware Vendor Test Sponsor": "Dell Inc.",
         "System Enclosure (if applicable)": "PowerEdge T620 (Intel Xeon E5-2660 v2)",
         "Date Submitted": "Nov 13, 2013",
         "Nodes": 1,
         "JVM Vendor": "IBM Corporation",
         "CPU Description": "Intel Xeon E5-2660 v2",
         "MHz": 2200,
         "Chips": 2,
         "Cores": 20,
         "Total Threads": 40,
         "Total Memory (GB)": 24,
         "ssj_ops @ 100%": "nan",
         "avg. watts @ 100%": "nan",
         "avg. watts @ active idle": "nan",
         "Result (Overall ssj_ops/watt)": "nan",
         "Sandy Bridge": "False",
         "Ivy Bridge": "True",
         "Haswell": "False",
         "Broadwell": "False",
         "Skylake": "False",
         "Cascade Lake": "False",
         "Coffee Lake": "False",
         "_deepnote_index_column": 460
        },
        {
         "Hardware Vendor Test Sponsor": "Fujitsu",
         "System Enclosure (if applicable)": "PRIMERGY BX920 S4 (Intel Xeon E5-2470 v2) PRIMERGY BX900 S2",
         "Date Submitted": "Jan 22, 2014",
         "Nodes": 18,
         "JVM Vendor": "IBM Corporation",
         "CPU Description": "Intel Xeon E5-2470 v2",
         "MHz": 2400,
         "Chips": 36,
         "Cores": 360,
         "Total Threads": 720,
         "Total Memory (GB)": 864,
         "ssj_ops @ 100%": "nan",
         "avg. watts @ 100%": "nan",
         "avg. watts @ active idle": "nan",
         "Result (Overall ssj_ops/watt)": "nan",
         "Sandy Bridge": "False",
         "Ivy Bridge": "True",
         "Haswell": "False",
         "Broadwell": "False",
         "Skylake": "False",
         "Cascade Lake": "False",
         "Coffee Lake": "False",
         "_deepnote_index_column": 462
        },
        {
         "Hardware Vendor Test Sponsor": "Dell Inc.",
         "System Enclosure (if applicable)": "PowerEdge M520 (Intel Xeon E5-2470 v2 2.40 GHz) Dell PowerEdge M1000e",
         "Date Submitted": "Jan 22, 2014",
         "Nodes": 16,
         "JVM Vendor": "IBM Corporation",
         "CPU Description": "Intel Xeon E5-2470 v2",
         "MHz": 2400,
         "Chips": 32,
         "Cores": 320,
         "Total Threads": 640,
         "Total Memory (GB)": 384,
         "ssj_ops @ 100%": "nan",
         "avg. watts @ 100%": "nan",
         "avg. watts @ active idle": "nan",
         "Result (Overall ssj_ops/watt)": "nan",
         "Sandy Bridge": "False",
         "Ivy Bridge": "True",
         "Haswell": "False",
         "Broadwell": "False",
         "Skylake": "False",
         "Cascade Lake": "False",
         "Coffee Lake": "False",
         "_deepnote_index_column": 463
        },
        {
         "Hardware Vendor Test Sponsor": "Fujitsu",
         "System Enclosure (if applicable)": "FUJITSU Server PRIMERGY TX2540 M1",
         "Date Submitted": "Apr 16, 2014",
         "Nodes": 1,
         "JVM Vendor": "IBM Corporation",
         "CPU Description": "Intel Xeon E5-2470 v2",
         "MHz": 2400,
         "Chips": 2,
         "Cores": 20,
         "Total Threads": 40,
         "Total Memory (GB)": 48,
         "ssj_ops @ 100%": "nan",
         "avg. watts @ 100%": "nan",
         "avg. watts @ active idle": "nan",
         "Result (Overall ssj_ops/watt)": "nan",
         "Sandy Bridge": "False",
         "Ivy Bridge": "True",
         "Haswell": "False",
         "Broadwell": "False",
         "Skylake": "False",
         "Cascade Lake": "False",
         "Coffee Lake": "False",
         "_deepnote_index_column": 464
        },
        {
         "Hardware Vendor Test Sponsor": "Dell Inc.",
         "System Enclosure (if applicable)": "PowerEdge R820 (Intel Xeon E5-4650 v2 2.40 GHz)",
         "Date Submitted": "Apr 16, 2014",
         "Nodes": 1,
         "JVM Vendor": "IBM Corporation",
         "CPU Description": "Intel Xeon E5-4650 v2",
         "MHz": 2400,
         "Chips": 4,
         "Cores": 40,
         "Total Threads": 80,
         "Total Memory (GB)": 48,
         "ssj_ops @ 100%": "nan",
         "avg. watts @ 100%": "nan",
         "avg. watts @ active idle": "nan",
         "Result (Overall ssj_ops/watt)": "nan",
         "Sandy Bridge": "False",
         "Ivy Bridge": "True",
         "Haswell": "False",
         "Broadwell": "False",
         "Skylake": "False",
         "Cascade Lake": "False",
         "Coffee Lake": "False",
         "_deepnote_index_column": 465
        },
        {
         "Hardware Vendor Test Sponsor": "Dell Inc.",
         "System Enclosure (if applicable)": "PowerEdge M820 (Intel Xeon E5-4650 v2, 2.40 GHz) Dell PowerEdge M1000e",
         "Date Submitted": "Apr 30, 2014",
         "Nodes": 8,
         "JVM Vendor": "IBM Corporation",
         "CPU Description": "Intel Xeon E5-4650 v2",
         "MHz": 2400,
         "Chips": 32,
         "Cores": 320,
         "Total Threads": 640,
         "Total Memory (GB)": 384,
         "ssj_ops @ 100%": "nan",
         "avg. watts @ 100%": "nan",
         "avg. watts @ active idle": "nan",
         "Result (Overall ssj_ops/watt)": "nan",
         "Sandy Bridge": "False",
         "Ivy Bridge": "True",
         "Haswell": "False",
         "Broadwell": "False",
         "Skylake": "False",
         "Cascade Lake": "False",
         "Coffee Lake": "False",
         "_deepnote_index_column": 466
        },
        {
         "Hardware Vendor Test Sponsor": "IBM Corporation",
         "System Enclosure (if applicable)": "IBM NeXtScale nx360 M4 (Intel Xeon E5-2660 v2) IBM NeXtScale n1200 Enclosure",
         "Date Submitted": "May 14, 2014",
         "Nodes": 12,
         "JVM Vendor": "IBM Corporation",
         "CPU Description": "Intel Xeon E5-2660 v2",
         "MHz": 2200,
         "Chips": 24,
         "Cores": 240,
         "Total Threads": 480,
         "Total Memory (GB)": 288,
         "ssj_ops @ 100%": "nan",
         "avg. watts @ 100%": "nan",
         "avg. watts @ active idle": "nan",
         "Result (Overall ssj_ops/watt)": "nan",
         "Sandy Bridge": "False",
         "Ivy Bridge": "True",
         "Haswell": "False",
         "Broadwell": "False",
         "Skylake": "False",
         "Cascade Lake": "False",
         "Coffee Lake": "False",
         "_deepnote_index_column": 468
        },
        {
         "Hardware Vendor Test Sponsor": "Sugon",
         "System Enclosure (if applicable)": "I840-G25 (Intel Xeon E7-4850 v2 2.30GHz)",
         "Date Submitted": "Jul 15, 2014",
         "Nodes": 1,
         "JVM Vendor": "IBM Corporation",
         "CPU Description": "Intel Xeon E7-4850 v2",
         "MHz": 2300,
         "Chips": 4,
         "Cores": 48,
         "Total Threads": 96,
         "Total Memory (GB)": 128,
         "ssj_ops @ 100%": "nan",
         "avg. watts @ 100%": "nan",
         "avg. watts @ active idle": "nan",
         "Result (Overall ssj_ops/watt)": "nan",
         "Sandy Bridge": "False",
         "Ivy Bridge": "True",
         "Haswell": "False",
         "Broadwell": "False",
         "Skylake": "False",
         "Cascade Lake": "False",
         "Coffee Lake": "False",
         "_deepnote_index_column": 469
        },
        {
         "Hardware Vendor Test Sponsor": "DEPO Computers",
         "System Enclosure (if applicable)": "DEPO Storm 3350V2",
         "Date Submitted": "Oct 7, 2014",
         "Nodes": 1,
         "JVM Vendor": "Oracle Corporation",
         "CPU Description": "Intel Xeon E5-2660 v2",
         "MHz": 2200,
         "Chips": 2,
         "Cores": 20,
         "Total Threads": 40,
         "Total Memory (GB)": 32,
         "ssj_ops @ 100%": "1634387",
         "avg. watts @ 100%": 232,
         "avg. watts @ active idle": "97.1",
         "Result (Overall ssj_ops/watt)": 5244,
         "Sandy Bridge": "False",
         "Ivy Bridge": "True",
         "Haswell": "False",
         "Broadwell": "False",
         "Skylake": "False",
         "Cascade Lake": "False",
         "Coffee Lake": "False",
         "_deepnote_index_column": 471
        }
       ],
       "rows_bottom": null
      },
      "text/plain": "     Hardware Vendor Test Sponsor  \\\n427                 Hitachi, Ltd.   \n428                 Hitachi, Ltd.   \n429                 Hitachi, Ltd.   \n445                       Fujitsu   \n446                       Fujitsu   \n447                       Fujitsu   \n448                       Fujitsu   \n449               IBM Corporation   \n450               IBM Corporation   \n451               IBM Corporation   \n452               IBM Corporation   \n454                     Dell Inc.   \n456  Huawei Technologies Co., Ltd   \n457  Huawei Technologies Co., Ltd   \n459                     Dell Inc.   \n460                     Dell Inc.   \n462                       Fujitsu   \n463                     Dell Inc.   \n464                       Fujitsu   \n465                     Dell Inc.   \n466                     Dell Inc.   \n468               IBM Corporation   \n469                         Sugon   \n471                DEPO Computers   \n\n                      System Enclosure (if applicable) Date Submitted  Nodes  \\\n427                                 HA8000/RS110 (DL2)    Mar 6, 2013    1.0   \n428                                  HA8000/SS10 (DL2)   Mar 20, 2013    1.0   \n429                                  HA8000/TS10 (DL2)   Mar 20, 2013    1.0   \n445          PRIMERGY RX300 S8 (Intel Xeon E5-2660 v2)    Oct 2, 2013    1.0   \n446          PRIMERGY RX350 S8 (Intel Xeon E5-2660 v2)    Oct 2, 2013    1.0   \n447          PRIMERGY TX300 S8 (Intel Xeon E5-2660 v2)    Oct 2, 2013    1.0   \n448          PRIMERGY RX200 S8 (Intel Xeon E5-2660 v2)    Oct 2, 2013    1.0   \n449  IBM NeXtScale nx360 M4 IBM NeXtScale n1200 Enc...    Oct 2, 2013   12.0   \n450                                IBM System x3650 M4    Oct 2, 2013    1.0   \n451                                IBM System x3500 M4    Oct 2, 2013    1.0   \n452  IBM System x iDataPlex dx360 M4 iDataPlex dx36...    Oct 2, 2013    2.0   \n454  PowerEdge M620 (Intel Xeon E5-2660 v2,) Dell P...   Oct 16, 2013   16.0   \n456                     Tecal CH121 Huawei Tecal E9000   Oct 21, 2013    6.0   \n457                     Tecal CH121 Huawei Tecal E9000   Oct 21, 2013    8.0   \n459             PowerEdge R620 (Intel Xeon E5-2660 v2)   Nov 13, 2013    1.0   \n460             PowerEdge T620 (Intel Xeon E5-2660 v2)   Nov 13, 2013    1.0   \n462  PRIMERGY BX920 S4 (Intel Xeon E5-2470 v2) PRIM...   Jan 22, 2014   18.0   \n463  PowerEdge M520 (Intel Xeon E5-2470 v2 2.40 GHz...   Jan 22, 2014   16.0   \n464                  FUJITSU Server PRIMERGY TX2540 M1   Apr 16, 2014    1.0   \n465    PowerEdge R820 (Intel Xeon E5-4650 v2 2.40 GHz)   Apr 16, 2014    1.0   \n466  PowerEdge M820 (Intel Xeon E5-4650 v2, 2.40 GH...   Apr 30, 2014    8.0   \n468  IBM NeXtScale nx360 M4 (Intel Xeon E5-2660 v2)...   May 14, 2014   12.0   \n469           I840-G25 (Intel Xeon E7-4850 v2 2.30GHz)   Jul 15, 2014    1.0   \n471                                  DEPO Storm 3350V2    Oct 7, 2014    1.0   \n\n             JVM Vendor        CPU Description   MHz  Chips  Cores  \\\n427     IBM Corporation  Intel Xeon E3-1280 v2  3600      1      4   \n428     IBM Corporation  Intel Xeon E3-1220 v2  3100      1      4   \n429     IBM Corporation  Intel Xeon E3-1280 v2  3600      1      4   \n445     IBM Corporation  Intel Xeon E5-2660 v2  2200      2     20   \n446     IBM Corporation  Intel Xeon E5-2660 v2  2200      2     20   \n447     IBM Corporation  Intel Xeon E5-2660 v2  2200      2     20   \n448     IBM Corporation  Intel Xeon E5-2660 v2  2200      2     20   \n449     IBM Corporation  Intel Xeon E5-2660 v2  2200     24    240   \n450     IBM Corporation  Intel Xeon E5-2660 v2  2200      2     20   \n451     IBM Corporation  Intel Xeon E5-2660 v2  2200      2     20   \n452     IBM Corporation  Intel Xeon E5-2660 v2  2200      4     40   \n454     IBM Corporation  Intel Xeon E5-2660 v2  2200     32    320   \n456     IBM Corporation  Intel Xeon E5-2660 v2  2200     12    120   \n457     IBM Corporation  Intel Xeon E5-2660 v2  2200     16    160   \n459     IBM Corporation  Intel Xeon E5-2660 v2  2200      2     20   \n460     IBM Corporation  Intel Xeon E5-2660 v2  2200      2     20   \n462     IBM Corporation  Intel Xeon E5-2470 v2  2400     36    360   \n463     IBM Corporation  Intel Xeon E5-2470 v2  2400     32    320   \n464     IBM Corporation  Intel Xeon E5-2470 v2  2400      2     20   \n465     IBM Corporation  Intel Xeon E5-4650 v2  2400      4     40   \n466     IBM Corporation  Intel Xeon E5-4650 v2  2400     32    320   \n468     IBM Corporation  Intel Xeon E5-2660 v2  2200     24    240   \n469     IBM Corporation  Intel Xeon E7-4850 v2  2300      4     48   \n471  Oracle Corporation  Intel Xeon E5-2660 v2  2200      2     20   \n\n     Total Threads  ...  avg. watts @ 100% avg. watts @ active idle  \\\n427              8  ...               94.0                     45.8   \n428              4  ...               69.7                     36.6   \n429              8  ...               85.2                     37.2   \n445             40  ...                NaN                      NaN   \n446             40  ...                NaN                      NaN   \n447             40  ...                NaN                      NaN   \n448             40  ...                NaN                      NaN   \n449            480  ...                NaN                      NaN   \n450             40  ...                NaN                      NaN   \n451             40  ...                NaN                      NaN   \n452             80  ...                NaN                      NaN   \n454            640  ...                NaN                      NaN   \n456            240  ...             1310.0                      334   \n457            320  ...             1732.0                      417   \n459             40  ...                NaN                      NaN   \n460             40  ...                NaN                      NaN   \n462            720  ...                NaN                      NaN   \n463            640  ...                NaN                      NaN   \n464             40  ...                NaN                      NaN   \n465             80  ...                NaN                      NaN   \n466            640  ...                NaN                      NaN   \n468            480  ...                NaN                      NaN   \n469             96  ...                NaN                      NaN   \n471             40  ...              232.0                     97.1   \n\n     Result (Overall ssj_ops/watt) Sandy Bridge  Ivy Bridge Haswell Broadwell  \\\n427                         3744.0        False        True   False     False   \n428                         3963.0        False        True   False     False   \n429                         4342.0        False        True   False     False   \n445                            NaN        False        True   False     False   \n446                            NaN        False        True   False     False   \n447                            NaN        False        True   False     False   \n448                            NaN        False        True   False     False   \n449                            NaN        False        True   False     False   \n450                            NaN        False        True   False     False   \n451                            NaN        False        True   False     False   \n452                            NaN        False        True   False     False   \n454                            NaN        False        True   False     False   \n456                         6309.0        False        True   False     False   \n457                         6453.0        False        True   False     False   \n459                            NaN        False        True   False     False   \n460                            NaN        False        True   False     False   \n462                            NaN        False        True   False     False   \n463                            NaN        False        True   False     False   \n464                            NaN        False        True   False     False   \n465                            NaN        False        True   False     False   \n466                            NaN        False        True   False     False   \n468                            NaN        False        True   False     False   \n469                            NaN        False        True   False     False   \n471                         5244.0        False        True   False     False   \n\n    Skylake Cascade Lake Coffee Lake  \n427   False        False       False  \n428   False        False       False  \n429   False        False       False  \n445   False        False       False  \n446   False        False       False  \n447   False        False       False  \n448   False        False       False  \n449   False        False       False  \n450   False        False       False  \n451   False        False       False  \n452   False        False       False  \n454   False        False       False  \n456   False        False       False  \n457   False        False       False  \n459   False        False       False  \n460   False        False       False  \n462   False        False       False  \n463   False        False       False  \n464   False        False       False  \n465   False        False       False  \n466   False        False       False  \n468   False        False       False  \n469   False        False       False  \n471   False        False       False  \n\n[24 rows x 22 columns]",
      "text/html": "<div>\n<style scoped>\n    .dataframe tbody tr th:only-of-type {\n        vertical-align: middle;\n    }\n\n    .dataframe tbody tr th {\n        vertical-align: top;\n    }\n\n    .dataframe thead th {\n        text-align: right;\n    }\n</style>\n<table border=\"1\" class=\"dataframe\">\n  <thead>\n    <tr style=\"text-align: right;\">\n      <th></th>\n      <th>Hardware Vendor Test Sponsor</th>\n      <th>System Enclosure (if applicable)</th>\n      <th>Date Submitted</th>\n      <th>Nodes</th>\n      <th>JVM Vendor</th>\n      <th>CPU Description</th>\n      <th>MHz</th>\n      <th>Chips</th>\n      <th>Cores</th>\n      <th>Total Threads</th>\n      <th>...</th>\n      <th>avg. watts @ 100%</th>\n      <th>avg. watts @ active idle</th>\n      <th>Result (Overall ssj_ops/watt)</th>\n      <th>Sandy Bridge</th>\n      <th>Ivy Bridge</th>\n      <th>Haswell</th>\n      <th>Broadwell</th>\n      <th>Skylake</th>\n      <th>Cascade Lake</th>\n      <th>Coffee Lake</th>\n    </tr>\n  </thead>\n  <tbody>\n    <tr>\n      <th>427</th>\n      <td>Hitachi, Ltd.</td>\n      <td>HA8000/RS110 (DL2)</td>\n      <td>Mar 6, 2013</td>\n      <td>1.0</td>\n      <td>IBM Corporation</td>\n      <td>Intel Xeon E3-1280 v2</td>\n      <td>3600</td>\n      <td>1</td>\n      <td>4</td>\n      <td>8</td>\n      <td>...</td>\n      <td>94.0</td>\n      <td>45.8</td>\n      <td>3744.0</td>\n      <td>False</td>\n      <td>True</td>\n      <td>False</td>\n      <td>False</td>\n      <td>False</td>\n      <td>False</td>\n      <td>False</td>\n    </tr>\n    <tr>\n      <th>428</th>\n      <td>Hitachi, Ltd.</td>\n      <td>HA8000/SS10 (DL2)</td>\n      <td>Mar 20, 2013</td>\n      <td>1.0</td>\n      <td>IBM Corporation</td>\n      <td>Intel Xeon E3-1220 v2</td>\n      <td>3100</td>\n      <td>1</td>\n      <td>4</td>\n      <td>4</td>\n      <td>...</td>\n      <td>69.7</td>\n      <td>36.6</td>\n      <td>3963.0</td>\n      <td>False</td>\n      <td>True</td>\n      <td>False</td>\n      <td>False</td>\n      <td>False</td>\n      <td>False</td>\n      <td>False</td>\n    </tr>\n    <tr>\n      <th>429</th>\n      <td>Hitachi, Ltd.</td>\n      <td>HA8000/TS10 (DL2)</td>\n      <td>Mar 20, 2013</td>\n      <td>1.0</td>\n      <td>IBM Corporation</td>\n      <td>Intel Xeon E3-1280 v2</td>\n      <td>3600</td>\n      <td>1</td>\n      <td>4</td>\n      <td>8</td>\n      <td>...</td>\n      <td>85.2</td>\n      <td>37.2</td>\n      <td>4342.0</td>\n      <td>False</td>\n      <td>True</td>\n      <td>False</td>\n      <td>False</td>\n      <td>False</td>\n      <td>False</td>\n      <td>False</td>\n    </tr>\n    <tr>\n      <th>445</th>\n      <td>Fujitsu</td>\n      <td>PRIMERGY RX300 S8 (Intel Xeon E5-2660 v2)</td>\n      <td>Oct 2, 2013</td>\n      <td>1.0</td>\n      <td>IBM Corporation</td>\n      <td>Intel Xeon E5-2660 v2</td>\n      <td>2200</td>\n      <td>2</td>\n      <td>20</td>\n      <td>40</td>\n      <td>...</td>\n      <td>NaN</td>\n      <td>NaN</td>\n      <td>NaN</td>\n      <td>False</td>\n      <td>True</td>\n      <td>False</td>\n      <td>False</td>\n      <td>False</td>\n      <td>False</td>\n      <td>False</td>\n    </tr>\n    <tr>\n      <th>446</th>\n      <td>Fujitsu</td>\n      <td>PRIMERGY RX350 S8 (Intel Xeon E5-2660 v2)</td>\n      <td>Oct 2, 2013</td>\n      <td>1.0</td>\n      <td>IBM Corporation</td>\n      <td>Intel Xeon E5-2660 v2</td>\n      <td>2200</td>\n      <td>2</td>\n      <td>20</td>\n      <td>40</td>\n      <td>...</td>\n      <td>NaN</td>\n      <td>NaN</td>\n      <td>NaN</td>\n      <td>False</td>\n      <td>True</td>\n      <td>False</td>\n      <td>False</td>\n      <td>False</td>\n      <td>False</td>\n      <td>False</td>\n    </tr>\n    <tr>\n      <th>447</th>\n      <td>Fujitsu</td>\n      <td>PRIMERGY TX300 S8 (Intel Xeon E5-2660 v2)</td>\n      <td>Oct 2, 2013</td>\n      <td>1.0</td>\n      <td>IBM Corporation</td>\n      <td>Intel Xeon E5-2660 v2</td>\n      <td>2200</td>\n      <td>2</td>\n      <td>20</td>\n      <td>40</td>\n      <td>...</td>\n      <td>NaN</td>\n      <td>NaN</td>\n      <td>NaN</td>\n      <td>False</td>\n      <td>True</td>\n      <td>False</td>\n      <td>False</td>\n      <td>False</td>\n      <td>False</td>\n      <td>False</td>\n    </tr>\n    <tr>\n      <th>448</th>\n      <td>Fujitsu</td>\n      <td>PRIMERGY RX200 S8 (Intel Xeon E5-2660 v2)</td>\n      <td>Oct 2, 2013</td>\n      <td>1.0</td>\n      <td>IBM Corporation</td>\n      <td>Intel Xeon E5-2660 v2</td>\n      <td>2200</td>\n      <td>2</td>\n      <td>20</td>\n      <td>40</td>\n      <td>...</td>\n      <td>NaN</td>\n      <td>NaN</td>\n      <td>NaN</td>\n      <td>False</td>\n      <td>True</td>\n      <td>False</td>\n      <td>False</td>\n      <td>False</td>\n      <td>False</td>\n      <td>False</td>\n    </tr>\n    <tr>\n      <th>449</th>\n      <td>IBM Corporation</td>\n      <td>IBM NeXtScale nx360 M4 IBM NeXtScale n1200 Enc...</td>\n      <td>Oct 2, 2013</td>\n      <td>12.0</td>\n      <td>IBM Corporation</td>\n      <td>Intel Xeon E5-2660 v2</td>\n      <td>2200</td>\n      <td>24</td>\n      <td>240</td>\n      <td>480</td>\n      <td>...</td>\n      <td>NaN</td>\n      <td>NaN</td>\n      <td>NaN</td>\n      <td>False</td>\n      <td>True</td>\n      <td>False</td>\n      <td>False</td>\n      <td>False</td>\n      <td>False</td>\n      <td>False</td>\n    </tr>\n    <tr>\n      <th>450</th>\n      <td>IBM Corporation</td>\n      <td>IBM System x3650 M4</td>\n      <td>Oct 2, 2013</td>\n      <td>1.0</td>\n      <td>IBM Corporation</td>\n      <td>Intel Xeon E5-2660 v2</td>\n      <td>2200</td>\n      <td>2</td>\n      <td>20</td>\n      <td>40</td>\n      <td>...</td>\n      <td>NaN</td>\n      <td>NaN</td>\n      <td>NaN</td>\n      <td>False</td>\n      <td>True</td>\n      <td>False</td>\n      <td>False</td>\n      <td>False</td>\n      <td>False</td>\n      <td>False</td>\n    </tr>\n    <tr>\n      <th>451</th>\n      <td>IBM Corporation</td>\n      <td>IBM System x3500 M4</td>\n      <td>Oct 2, 2013</td>\n      <td>1.0</td>\n      <td>IBM Corporation</td>\n      <td>Intel Xeon E5-2660 v2</td>\n      <td>2200</td>\n      <td>2</td>\n      <td>20</td>\n      <td>40</td>\n      <td>...</td>\n      <td>NaN</td>\n      <td>NaN</td>\n      <td>NaN</td>\n      <td>False</td>\n      <td>True</td>\n      <td>False</td>\n      <td>False</td>\n      <td>False</td>\n      <td>False</td>\n      <td>False</td>\n    </tr>\n    <tr>\n      <th>452</th>\n      <td>IBM Corporation</td>\n      <td>IBM System x iDataPlex dx360 M4 iDataPlex dx36...</td>\n      <td>Oct 2, 2013</td>\n      <td>2.0</td>\n      <td>IBM Corporation</td>\n      <td>Intel Xeon E5-2660 v2</td>\n      <td>2200</td>\n      <td>4</td>\n      <td>40</td>\n      <td>80</td>\n      <td>...</td>\n      <td>NaN</td>\n      <td>NaN</td>\n      <td>NaN</td>\n      <td>False</td>\n      <td>True</td>\n      <td>False</td>\n      <td>False</td>\n      <td>False</td>\n      <td>False</td>\n      <td>False</td>\n    </tr>\n    <tr>\n      <th>454</th>\n      <td>Dell Inc.</td>\n      <td>PowerEdge M620 (Intel Xeon E5-2660 v2,) Dell P...</td>\n      <td>Oct 16, 2013</td>\n      <td>16.0</td>\n      <td>IBM Corporation</td>\n      <td>Intel Xeon E5-2660 v2</td>\n      <td>2200</td>\n      <td>32</td>\n      <td>320</td>\n      <td>640</td>\n      <td>...</td>\n      <td>NaN</td>\n      <td>NaN</td>\n      <td>NaN</td>\n      <td>False</td>\n      <td>True</td>\n      <td>False</td>\n      <td>False</td>\n      <td>False</td>\n      <td>False</td>\n      <td>False</td>\n    </tr>\n    <tr>\n      <th>456</th>\n      <td>Huawei Technologies Co., Ltd</td>\n      <td>Tecal CH121 Huawei Tecal E9000</td>\n      <td>Oct 21, 2013</td>\n      <td>6.0</td>\n      <td>IBM Corporation</td>\n      <td>Intel Xeon E5-2660 v2</td>\n      <td>2200</td>\n      <td>12</td>\n      <td>120</td>\n      <td>240</td>\n      <td>...</td>\n      <td>1310.0</td>\n      <td>334</td>\n      <td>6309.0</td>\n      <td>False</td>\n      <td>True</td>\n      <td>False</td>\n      <td>False</td>\n      <td>False</td>\n      <td>False</td>\n      <td>False</td>\n    </tr>\n    <tr>\n      <th>457</th>\n      <td>Huawei Technologies Co., Ltd</td>\n      <td>Tecal CH121 Huawei Tecal E9000</td>\n      <td>Oct 21, 2013</td>\n      <td>8.0</td>\n      <td>IBM Corporation</td>\n      <td>Intel Xeon E5-2660 v2</td>\n      <td>2200</td>\n      <td>16</td>\n      <td>160</td>\n      <td>320</td>\n      <td>...</td>\n      <td>1732.0</td>\n      <td>417</td>\n      <td>6453.0</td>\n      <td>False</td>\n      <td>True</td>\n      <td>False</td>\n      <td>False</td>\n      <td>False</td>\n      <td>False</td>\n      <td>False</td>\n    </tr>\n    <tr>\n      <th>459</th>\n      <td>Dell Inc.</td>\n      <td>PowerEdge R620 (Intel Xeon E5-2660 v2)</td>\n      <td>Nov 13, 2013</td>\n      <td>1.0</td>\n      <td>IBM Corporation</td>\n      <td>Intel Xeon E5-2660 v2</td>\n      <td>2200</td>\n      <td>2</td>\n      <td>20</td>\n      <td>40</td>\n      <td>...</td>\n      <td>NaN</td>\n      <td>NaN</td>\n      <td>NaN</td>\n      <td>False</td>\n      <td>True</td>\n      <td>False</td>\n      <td>False</td>\n      <td>False</td>\n      <td>False</td>\n      <td>False</td>\n    </tr>\n    <tr>\n      <th>460</th>\n      <td>Dell Inc.</td>\n      <td>PowerEdge T620 (Intel Xeon E5-2660 v2)</td>\n      <td>Nov 13, 2013</td>\n      <td>1.0</td>\n      <td>IBM Corporation</td>\n      <td>Intel Xeon E5-2660 v2</td>\n      <td>2200</td>\n      <td>2</td>\n      <td>20</td>\n      <td>40</td>\n      <td>...</td>\n      <td>NaN</td>\n      <td>NaN</td>\n      <td>NaN</td>\n      <td>False</td>\n      <td>True</td>\n      <td>False</td>\n      <td>False</td>\n      <td>False</td>\n      <td>False</td>\n      <td>False</td>\n    </tr>\n    <tr>\n      <th>462</th>\n      <td>Fujitsu</td>\n      <td>PRIMERGY BX920 S4 (Intel Xeon E5-2470 v2) PRIM...</td>\n      <td>Jan 22, 2014</td>\n      <td>18.0</td>\n      <td>IBM Corporation</td>\n      <td>Intel Xeon E5-2470 v2</td>\n      <td>2400</td>\n      <td>36</td>\n      <td>360</td>\n      <td>720</td>\n      <td>...</td>\n      <td>NaN</td>\n      <td>NaN</td>\n      <td>NaN</td>\n      <td>False</td>\n      <td>True</td>\n      <td>False</td>\n      <td>False</td>\n      <td>False</td>\n      <td>False</td>\n      <td>False</td>\n    </tr>\n    <tr>\n      <th>463</th>\n      <td>Dell Inc.</td>\n      <td>PowerEdge M520 (Intel Xeon E5-2470 v2 2.40 GHz...</td>\n      <td>Jan 22, 2014</td>\n      <td>16.0</td>\n      <td>IBM Corporation</td>\n      <td>Intel Xeon E5-2470 v2</td>\n      <td>2400</td>\n      <td>32</td>\n      <td>320</td>\n      <td>640</td>\n      <td>...</td>\n      <td>NaN</td>\n      <td>NaN</td>\n      <td>NaN</td>\n      <td>False</td>\n      <td>True</td>\n      <td>False</td>\n      <td>False</td>\n      <td>False</td>\n      <td>False</td>\n      <td>False</td>\n    </tr>\n    <tr>\n      <th>464</th>\n      <td>Fujitsu</td>\n      <td>FUJITSU Server PRIMERGY TX2540 M1</td>\n      <td>Apr 16, 2014</td>\n      <td>1.0</td>\n      <td>IBM Corporation</td>\n      <td>Intel Xeon E5-2470 v2</td>\n      <td>2400</td>\n      <td>2</td>\n      <td>20</td>\n      <td>40</td>\n      <td>...</td>\n      <td>NaN</td>\n      <td>NaN</td>\n      <td>NaN</td>\n      <td>False</td>\n      <td>True</td>\n      <td>False</td>\n      <td>False</td>\n      <td>False</td>\n      <td>False</td>\n      <td>False</td>\n    </tr>\n    <tr>\n      <th>465</th>\n      <td>Dell Inc.</td>\n      <td>PowerEdge R820 (Intel Xeon E5-4650 v2 2.40 GHz)</td>\n      <td>Apr 16, 2014</td>\n      <td>1.0</td>\n      <td>IBM Corporation</td>\n      <td>Intel Xeon E5-4650 v2</td>\n      <td>2400</td>\n      <td>4</td>\n      <td>40</td>\n      <td>80</td>\n      <td>...</td>\n      <td>NaN</td>\n      <td>NaN</td>\n      <td>NaN</td>\n      <td>False</td>\n      <td>True</td>\n      <td>False</td>\n      <td>False</td>\n      <td>False</td>\n      <td>False</td>\n      <td>False</td>\n    </tr>\n    <tr>\n      <th>466</th>\n      <td>Dell Inc.</td>\n      <td>PowerEdge M820 (Intel Xeon E5-4650 v2, 2.40 GH...</td>\n      <td>Apr 30, 2014</td>\n      <td>8.0</td>\n      <td>IBM Corporation</td>\n      <td>Intel Xeon E5-4650 v2</td>\n      <td>2400</td>\n      <td>32</td>\n      <td>320</td>\n      <td>640</td>\n      <td>...</td>\n      <td>NaN</td>\n      <td>NaN</td>\n      <td>NaN</td>\n      <td>False</td>\n      <td>True</td>\n      <td>False</td>\n      <td>False</td>\n      <td>False</td>\n      <td>False</td>\n      <td>False</td>\n    </tr>\n    <tr>\n      <th>468</th>\n      <td>IBM Corporation</td>\n      <td>IBM NeXtScale nx360 M4 (Intel Xeon E5-2660 v2)...</td>\n      <td>May 14, 2014</td>\n      <td>12.0</td>\n      <td>IBM Corporation</td>\n      <td>Intel Xeon E5-2660 v2</td>\n      <td>2200</td>\n      <td>24</td>\n      <td>240</td>\n      <td>480</td>\n      <td>...</td>\n      <td>NaN</td>\n      <td>NaN</td>\n      <td>NaN</td>\n      <td>False</td>\n      <td>True</td>\n      <td>False</td>\n      <td>False</td>\n      <td>False</td>\n      <td>False</td>\n      <td>False</td>\n    </tr>\n    <tr>\n      <th>469</th>\n      <td>Sugon</td>\n      <td>I840-G25 (Intel Xeon E7-4850 v2 2.30GHz)</td>\n      <td>Jul 15, 2014</td>\n      <td>1.0</td>\n      <td>IBM Corporation</td>\n      <td>Intel Xeon E7-4850 v2</td>\n      <td>2300</td>\n      <td>4</td>\n      <td>48</td>\n      <td>96</td>\n      <td>...</td>\n      <td>NaN</td>\n      <td>NaN</td>\n      <td>NaN</td>\n      <td>False</td>\n      <td>True</td>\n      <td>False</td>\n      <td>False</td>\n      <td>False</td>\n      <td>False</td>\n      <td>False</td>\n    </tr>\n    <tr>\n      <th>471</th>\n      <td>DEPO Computers</td>\n      <td>DEPO Storm 3350V2</td>\n      <td>Oct 7, 2014</td>\n      <td>1.0</td>\n      <td>Oracle Corporation</td>\n      <td>Intel Xeon E5-2660 v2</td>\n      <td>2200</td>\n      <td>2</td>\n      <td>20</td>\n      <td>40</td>\n      <td>...</td>\n      <td>232.0</td>\n      <td>97.1</td>\n      <td>5244.0</td>\n      <td>False</td>\n      <td>True</td>\n      <td>False</td>\n      <td>False</td>\n      <td>False</td>\n      <td>False</td>\n      <td>False</td>\n    </tr>\n  </tbody>\n</table>\n<p>24 rows × 22 columns</p>\n</div>"
     },
     "metadata": {}
    }
   ]
  },
  {
   "cell_type": "markdown",
   "source": "### Intel: Haswell",
   "metadata": {
    "tags": [],
    "cell_id": "00008-15a73303-9813-4526-87e9-848e452851a3",
    "deepnote_cell_type": "markdown"
   }
  },
  {
   "cell_type": "code",
   "metadata": {
    "tags": [],
    "cell_id": "00010-4ad36932-befa-47ea-b38e-db9201a015f0",
    "deepnote_to_be_reexecuted": false,
    "source_hash": "d2af061c",
    "allow_embed": false,
    "execution_start": 1623959240550,
    "execution_millis": 113,
    "deepnote_cell_type": "code"
   },
   "source": "# Construct regex to match the chip name exactly to the end of the line\n# (See notes above on regex and clean data)\ncpus_re = [rf'(\\b{string}$)' for string in cpus_intel_haswell]\nservers_intel_haswell = servers[servers['CPU Description'].str.contains('|'.join(cpus_re))]\n\nintel_haswell = {}\nintel_haswell['idle_watts'] = (servers_intel_haswell['avg. watts @ active idle'].astype(float) / servers_intel_haswell['Total Threads']).mean()\nintel_haswell['100% watts'] = (servers_intel_haswell['avg. watts @ 100%'].astype(float) / servers_intel_haswell['Total Threads']).mean()\nintel_haswell['GB/Chip'] = (servers_intel_haswell['Total Memory (GB)'] / servers_intel_haswell['Chips']).mean()\nservers_intel_haswell",
   "execution_count": 7,
   "outputs": [
    {
     "name": "stderr",
     "text": "/shared-libs/python3.9/py/lib/python3.9/site-packages/pandas/core/strings/accessor.py:101: UserWarning: This pattern has match groups. To actually get the groups, use str.extract.\n  return func(self, *args, **kwargs)\n",
     "output_type": "stream"
    },
    {
     "output_type": "execute_result",
     "execution_count": 7,
     "data": {
      "application/vnd.deepnote.dataframe.v2+json": {
       "row_count": 25,
       "column_count": 22,
       "columns": [
        {
         "name": "Hardware Vendor Test Sponsor",
         "dtype": "object",
         "stats": {
          "unique_count": 9,
          "nan_count": 0,
          "categories": [
           {
            "name": "Fujitsu",
            "count": 10
           },
           {
            "name": "Dell Inc.",
            "count": 6
           },
           {
            "name": "7 others",
            "count": 9
           }
          ]
         }
        },
        {
         "name": "System Enclosure (if applicable)",
         "dtype": "object",
         "stats": {
          "unique_count": 23,
          "nan_count": 0,
          "categories": [
           {
            "name": "FUJITSU Server PRIMERGY RX1330 M1",
            "count": 2
           },
           {
            "name": "ProLiant DL560 Gen9",
            "count": 2
           },
           {
            "name": "21 others",
            "count": 21
           }
          ]
         }
        },
        {
         "name": "Date Submitted",
         "dtype": "object",
         "stats": {
          "unique_count": 19,
          "nan_count": 0,
          "categories": [
           {
            "name": "Apr 1, 2015",
            "count": 3
           },
           {
            "name": "Oct 21, 2014",
            "count": 2
           },
           {
            "name": "17 others",
            "count": 20
           }
          ]
         }
        },
        {
         "name": "Nodes",
         "dtype": "float64",
         "stats": {
          "unique_count": 4,
          "nan_count": 0,
          "min": "1.0",
          "max": "8.0",
          "histogram": [
           {
            "bin_start": 1,
            "bin_end": 1.7,
            "count": 20
           },
           {
            "bin_start": 1.7,
            "bin_end": 2.4,
            "count": 0
           },
           {
            "bin_start": 2.4,
            "bin_end": 3.0999999999999996,
            "count": 1
           },
           {
            "bin_start": 3.0999999999999996,
            "bin_end": 3.8,
            "count": 0
           },
           {
            "bin_start": 3.8,
            "bin_end": 4.5,
            "count": 3
           },
           {
            "bin_start": 4.5,
            "bin_end": 5.199999999999999,
            "count": 0
           },
           {
            "bin_start": 5.199999999999999,
            "bin_end": 5.8999999999999995,
            "count": 0
           },
           {
            "bin_start": 5.8999999999999995,
            "bin_end": 6.6,
            "count": 0
           },
           {
            "bin_start": 6.6,
            "bin_end": 7.3,
            "count": 0
           },
           {
            "bin_start": 7.3,
            "bin_end": 8,
            "count": 1
           }
          ]
         }
        },
        {
         "name": "JVM Vendor",
         "dtype": "object",
         "stats": {
          "unique_count": 2,
          "nan_count": 0,
          "categories": [
           {
            "name": "IBM Corporation",
            "count": 24
           },
           {
            "name": "Oracle Corporation",
            "count": 1
           }
          ]
         }
        },
        {
         "name": "CPU Description",
         "dtype": "object",
         "stats": {
          "unique_count": 4,
          "nan_count": 0,
          "categories": [
           {
            "name": "Intel Xeon E5-2699 v3",
            "count": 17
           },
           {
            "name": "Intel Xeon E3-1275L v3",
            "count": 3
           },
           {
            "name": "2 others",
            "count": 5
           }
          ]
         }
        },
        {
         "name": "MHz",
         "dtype": "int64",
         "stats": {
          "unique_count": 4,
          "nan_count": 0,
          "min": "2100",
          "max": "2700",
          "histogram": [
           {
            "bin_start": 2100,
            "bin_end": 2160,
            "count": 3
           },
           {
            "bin_start": 2160,
            "bin_end": 2220,
            "count": 0
           },
           {
            "bin_start": 2220,
            "bin_end": 2280,
            "count": 0
           },
           {
            "bin_start": 2280,
            "bin_end": 2340,
            "count": 17
           },
           {
            "bin_start": 2340,
            "bin_end": 2400,
            "count": 0
           },
           {
            "bin_start": 2400,
            "bin_end": 2460,
            "count": 0
           },
           {
            "bin_start": 2460,
            "bin_end": 2520,
            "count": 3
           },
           {
            "bin_start": 2520,
            "bin_end": 2580,
            "count": 0
           },
           {
            "bin_start": 2580,
            "bin_end": 2640,
            "count": 0
           },
           {
            "bin_start": 2640,
            "bin_end": 2700,
            "count": 2
           }
          ]
         }
        },
        {
         "name": "Chips",
         "dtype": "int64",
         "stats": {
          "unique_count": 6,
          "nan_count": 0,
          "min": "1",
          "max": "32",
          "histogram": [
           {
            "bin_start": 1,
            "bin_end": 4.1,
            "count": 20
           },
           {
            "bin_start": 4.1,
            "bin_end": 7.2,
            "count": 1
           },
           {
            "bin_start": 7.2,
            "bin_end": 10.3,
            "count": 3
           },
           {
            "bin_start": 10.3,
            "bin_end": 13.4,
            "count": 0
           },
           {
            "bin_start": 13.4,
            "bin_end": 16.5,
            "count": 0
           },
           {
            "bin_start": 16.5,
            "bin_end": 19.6,
            "count": 0
           },
           {
            "bin_start": 19.6,
            "bin_end": 22.7,
            "count": 0
           },
           {
            "bin_start": 22.7,
            "bin_end": 25.8,
            "count": 0
           },
           {
            "bin_start": 25.8,
            "bin_end": 28.900000000000002,
            "count": 0
           },
           {
            "bin_start": 28.900000000000002,
            "bin_end": 32,
            "count": 1
           }
          ]
         }
        },
        {
         "name": "Cores",
         "dtype": "int64",
         "stats": {
          "unique_count": 6,
          "nan_count": 0,
          "min": "4",
          "max": "576",
          "histogram": [
           {
            "bin_start": 4,
            "bin_end": 61.2,
            "count": 18
           },
           {
            "bin_start": 61.2,
            "bin_end": 118.4,
            "count": 3
           },
           {
            "bin_start": 118.4,
            "bin_end": 175.60000000000002,
            "count": 3
           },
           {
            "bin_start": 175.60000000000002,
            "bin_end": 232.8,
            "count": 0
           },
           {
            "bin_start": 232.8,
            "bin_end": 290,
            "count": 0
           },
           {
            "bin_start": 290,
            "bin_end": 347.20000000000005,
            "count": 0
           },
           {
            "bin_start": 347.20000000000005,
            "bin_end": 404.40000000000003,
            "count": 0
           },
           {
            "bin_start": 404.40000000000003,
            "bin_end": 461.6,
            "count": 0
           },
           {
            "bin_start": 461.6,
            "bin_end": 518.8000000000001,
            "count": 0
           },
           {
            "bin_start": 518.8000000000001,
            "bin_end": 576,
            "count": 1
           }
          ]
         }
        },
        {
         "name": "Total Threads",
         "dtype": "int64",
         "stats": {
          "unique_count": 6,
          "nan_count": 0,
          "min": "8",
          "max": "1152",
          "histogram": [
           {
            "bin_start": 8,
            "bin_end": 122.4,
            "count": 18
           },
           {
            "bin_start": 122.4,
            "bin_end": 236.8,
            "count": 3
           },
           {
            "bin_start": 236.8,
            "bin_end": 351.20000000000005,
            "count": 3
           },
           {
            "bin_start": 351.20000000000005,
            "bin_end": 465.6,
            "count": 0
           },
           {
            "bin_start": 465.6,
            "bin_end": 580,
            "count": 0
           },
           {
            "bin_start": 580,
            "bin_end": 694.4000000000001,
            "count": 0
           },
           {
            "bin_start": 694.4000000000001,
            "bin_end": 808.8000000000001,
            "count": 0
           },
           {
            "bin_start": 808.8000000000001,
            "bin_end": 923.2,
            "count": 0
           },
           {
            "bin_start": 923.2,
            "bin_end": 1037.6000000000001,
            "count": 0
           },
           {
            "bin_start": 1037.6000000000001,
            "bin_end": 1152,
            "count": 1
           }
          ]
         }
        },
        {
         "name": "Total Memory (GB)",
         "dtype": "int64",
         "stats": {
          "unique_count": 8,
          "nan_count": 0,
          "min": "8",
          "max": "1024",
          "histogram": [
           {
            "bin_start": 8,
            "bin_end": 109.6,
            "count": 18
           },
           {
            "bin_start": 109.6,
            "bin_end": 211.2,
            "count": 3
           },
           {
            "bin_start": 211.2,
            "bin_end": 312.79999999999995,
            "count": 3
           },
           {
            "bin_start": 312.79999999999995,
            "bin_end": 414.4,
            "count": 0
           },
           {
            "bin_start": 414.4,
            "bin_end": 516,
            "count": 0
           },
           {
            "bin_start": 516,
            "bin_end": 617.5999999999999,
            "count": 0
           },
           {
            "bin_start": 617.5999999999999,
            "bin_end": 719.1999999999999,
            "count": 0
           },
           {
            "bin_start": 719.1999999999999,
            "bin_end": 820.8,
            "count": 0
           },
           {
            "bin_start": 820.8,
            "bin_end": 922.4,
            "count": 0
           },
           {
            "bin_start": 922.4,
            "bin_end": 1024,
            "count": 1
           }
          ]
         }
        },
        {
         "name": "ssj_ops @ 100%",
         "dtype": "object",
         "stats": {
          "unique_count": 20,
          "nan_count": 5,
          "categories": [
           {
            "name": "491887",
            "count": 1
           },
           {
            "name": "19 others",
            "count": 19
           },
           {
            "name": "Missing",
            "count": 5
           }
          ]
         }
        },
        {
         "name": "avg. watts @ 100%",
         "dtype": "float64",
         "stats": {
          "unique_count": 18,
          "nan_count": 5,
          "min": "58.5",
          "max": "1256.0",
          "histogram": [
           {
            "bin_start": 58.5,
            "bin_end": 178.25,
            "count": 4
           },
           {
            "bin_start": 178.25,
            "bin_end": 298,
            "count": 11
           },
           {
            "bin_start": 298,
            "bin_end": 417.75,
            "count": 1
           },
           {
            "bin_start": 417.75,
            "bin_end": 537.5,
            "count": 0
           },
           {
            "bin_start": 537.5,
            "bin_end": 657.25,
            "count": 1
           },
           {
            "bin_start": 657.25,
            "bin_end": 777,
            "count": 0
           },
           {
            "bin_start": 777,
            "bin_end": 896.75,
            "count": 0
           },
           {
            "bin_start": 896.75,
            "bin_end": 1016.5,
            "count": 0
           },
           {
            "bin_start": 1016.5,
            "bin_end": 1136.25,
            "count": 0
           },
           {
            "bin_start": 1136.25,
            "bin_end": 1256,
            "count": 3
           }
          ]
         }
        },
        {
         "name": "avg. watts @ active idle",
         "dtype": "object",
         "stats": {
          "unique_count": 20,
          "nan_count": 5,
          "categories": [
           {
            "name": "19",
            "count": 1
           },
           {
            "name": "19 others",
            "count": 19
           },
           {
            "name": "Missing",
            "count": 5
           }
          ]
         }
        },
        {
         "name": "Result (Overall ssj_ops/watt)",
         "dtype": "float64",
         "stats": {
          "unique_count": 20,
          "nan_count": 5,
          "min": "6137.0",
          "max": "10700.0",
          "histogram": [
           {
            "bin_start": 6137,
            "bin_end": 6593.3,
            "count": 1
           },
           {
            "bin_start": 6593.3,
            "bin_end": 7049.6,
            "count": 2
           },
           {
            "bin_start": 7049.6,
            "bin_end": 7505.9,
            "count": 0
           },
           {
            "bin_start": 7505.9,
            "bin_end": 7962.2,
            "count": 1
           },
           {
            "bin_start": 7962.2,
            "bin_end": 8418.5,
            "count": 2
           },
           {
            "bin_start": 8418.5,
            "bin_end": 8874.8,
            "count": 0
           },
           {
            "bin_start": 8874.8,
            "bin_end": 9331.1,
            "count": 1
           },
           {
            "bin_start": 9331.1,
            "bin_end": 9787.4,
            "count": 2
           },
           {
            "bin_start": 9787.4,
            "bin_end": 10243.7,
            "count": 7
           },
           {
            "bin_start": 10243.7,
            "bin_end": 10700,
            "count": 4
           }
          ]
         }
        },
        {
         "name": "Sandy Bridge",
         "dtype": "object",
         "stats": {
          "unique_count": 1,
          "nan_count": 0,
          "categories": [
           {
            "name": "False",
            "count": 25
           }
          ]
         }
        },
        {
         "name": "Ivy Bridge",
         "dtype": "object",
         "stats": {
          "unique_count": 1,
          "nan_count": 0,
          "categories": [
           {
            "name": "False",
            "count": 25
           }
          ]
         }
        },
        {
         "name": "Haswell",
         "dtype": "object",
         "stats": {
          "unique_count": 1,
          "nan_count": 0,
          "categories": [
           {
            "name": "True",
            "count": 25
           }
          ]
         }
        },
        {
         "name": "Broadwell",
         "dtype": "object",
         "stats": {
          "unique_count": 1,
          "nan_count": 0,
          "categories": [
           {
            "name": "False",
            "count": 25
           }
          ]
         }
        },
        {
         "name": "Skylake",
         "dtype": "object",
         "stats": {
          "unique_count": 1,
          "nan_count": 0,
          "categories": [
           {
            "name": "False",
            "count": 25
           }
          ]
         }
        },
        {
         "name": "Cascade Lake",
         "dtype": "object",
         "stats": {
          "unique_count": 1,
          "nan_count": 0,
          "categories": [
           {
            "name": "False",
            "count": 25
           }
          ]
         }
        },
        {
         "name": "Coffee Lake",
         "dtype": "object",
         "stats": {
          "unique_count": 1,
          "nan_count": 0,
          "categories": [
           {
            "name": "False",
            "count": 25
           }
          ]
         }
        },
        {
         "name": "_deepnote_index_column",
         "dtype": "int64"
        }
       ],
       "rows_top": [
        {
         "Hardware Vendor Test Sponsor": "Fujitsu",
         "System Enclosure (if applicable)": "PRIMERGY TX140 S2 (Intel Xeon E3-1265Lv3)",
         "Date Submitted": "Oct 2, 2013",
         "Nodes": 1,
         "JVM Vendor": "IBM Corporation",
         "CPU Description": "Intel Xeon E3-1265L v3",
         "MHz": 2500,
         "Chips": 1,
         "Cores": 4,
         "Total Threads": 8,
         "Total Memory (GB)": 8,
         "ssj_ops @ 100%": "491887",
         "avg. watts @ 100%": 58.5,
         "avg. watts @ active idle": "19",
         "Result (Overall ssj_ops/watt)": 6797,
         "Sandy Bridge": "False",
         "Ivy Bridge": "False",
         "Haswell": "True",
         "Broadwell": "False",
         "Skylake": "False",
         "Cascade Lake": "False",
         "Coffee Lake": "False",
         "_deepnote_index_column": 444
        },
        {
         "Hardware Vendor Test Sponsor": "Fujitsu",
         "System Enclosure (if applicable)": "PRIMERGY RX100 S8 (Intel Xeon E3-1265Lv3)",
         "Date Submitted": "Nov 13, 2013",
         "Nodes": 1,
         "JVM Vendor": "IBM Corporation",
         "CPU Description": "Intel Xeon E3-1265L v3",
         "MHz": 2500,
         "Chips": 1,
         "Cores": 4,
         "Total Threads": 8,
         "Total Memory (GB)": 8,
         "ssj_ops @ 100%": "490149",
         "avg. watts @ 100%": 69.8,
         "avg. watts @ active idle": "17.7",
         "Result (Overall ssj_ops/watt)": 6137,
         "Sandy Bridge": "False",
         "Ivy Bridge": "False",
         "Haswell": "True",
         "Broadwell": "False",
         "Skylake": "False",
         "Cascade Lake": "False",
         "Coffee Lake": "False",
         "_deepnote_index_column": 458
        },
        {
         "Hardware Vendor Test Sponsor": "Fujitsu",
         "System Enclosure (if applicable)": "FUJITSU Server PRIMERGY RX1330 M1",
         "Date Submitted": "Aug 22, 2014",
         "Nodes": 1,
         "JVM Vendor": "IBM Corporation",
         "CPU Description": "Intel Xeon E3-1275L v3",
         "MHz": 2500,
         "Chips": 1,
         "Cores": 4,
         "Total Threads": 8,
         "Total Memory (GB)": 16,
         "ssj_ops @ 100%": "nan",
         "avg. watts @ 100%": "nan",
         "avg. watts @ active idle": "nan",
         "Result (Overall ssj_ops/watt)": "nan",
         "Sandy Bridge": "False",
         "Ivy Bridge": "False",
         "Haswell": "True",
         "Broadwell": "False",
         "Skylake": "False",
         "Cascade Lake": "False",
         "Coffee Lake": "False",
         "_deepnote_index_column": 470
        },
        {
         "Hardware Vendor Test Sponsor": "Fujitsu",
         "System Enclosure (if applicable)": "FUJITSU Server PRIMERGY RX2540 M1",
         "Date Submitted": "Oct 21, 2014",
         "Nodes": 1,
         "JVM Vendor": "IBM Corporation",
         "CPU Description": "Intel Xeon E5-2699 v3",
         "MHz": 2300,
         "Chips": 2,
         "Cores": 36,
         "Total Threads": 72,
         "Total Memory (GB)": 64,
         "ssj_ops @ 100%": "3257627",
         "avg. watts @ 100%": 271,
         "avg. watts @ active idle": "39",
         "Result (Overall ssj_ops/watt)": 10654,
         "Sandy Bridge": "False",
         "Ivy Bridge": "False",
         "Haswell": "True",
         "Broadwell": "False",
         "Skylake": "False",
         "Cascade Lake": "False",
         "Coffee Lake": "False",
         "_deepnote_index_column": 472
        },
        {
         "Hardware Vendor Test Sponsor": "Huawei Technologies Co., Ltd",
         "System Enclosure (if applicable)": "XH628 V3 Huawei FusionServer X6800",
         "Date Submitted": "Oct 21, 2014",
         "Nodes": 3,
         "JVM Vendor": "IBM Corporation",
         "CPU Description": "Intel Xeon E5-2699 v3",
         "MHz": 2300,
         "Chips": 6,
         "Cores": 108,
         "Total Threads": 216,
         "Total Memory (GB)": 192,
         "ssj_ops @ 100%": "nan",
         "avg. watts @ 100%": "nan",
         "avg. watts @ active idle": "nan",
         "Result (Overall ssj_ops/watt)": "nan",
         "Sandy Bridge": "False",
         "Ivy Bridge": "False",
         "Haswell": "True",
         "Broadwell": "False",
         "Skylake": "False",
         "Cascade Lake": "False",
         "Coffee Lake": "False",
         "_deepnote_index_column": 473
        },
        {
         "Hardware Vendor Test Sponsor": "Inspur Corporation",
         "System Enclosure (if applicable)": "NF5280M4",
         "Date Submitted": "Nov 12, 2014",
         "Nodes": 1,
         "JVM Vendor": "IBM Corporation",
         "CPU Description": "Intel Xeon E5-2699 v3",
         "MHz": 2300,
         "Chips": 2,
         "Cores": 36,
         "Total Threads": 72,
         "Total Memory (GB)": 64,
         "ssj_ops @ 100%": "nan",
         "avg. watts @ 100%": "nan",
         "avg. watts @ active idle": "nan",
         "Result (Overall ssj_ops/watt)": "nan",
         "Sandy Bridge": "False",
         "Ivy Bridge": "False",
         "Haswell": "True",
         "Broadwell": "False",
         "Skylake": "False",
         "Cascade Lake": "False",
         "Coffee Lake": "False",
         "_deepnote_index_column": 475
        },
        {
         "Hardware Vendor Test Sponsor": "Fujitsu",
         "System Enclosure (if applicable)": "FUJITSU Server PRIMERGY CX2550 M1 PRIMERGY CX400 M1",
         "Date Submitted": "Dec 10, 2014",
         "Nodes": 4,
         "JVM Vendor": "IBM Corporation",
         "CPU Description": "Intel Xeon E5-2699 v3",
         "MHz": 2300,
         "Chips": 8,
         "Cores": 144,
         "Total Threads": 288,
         "Total Memory (GB)": 256,
         "ssj_ops @ 100%": "12913912",
         "avg. watts @ 100%": 1152,
         "avg. watts @ active idle": "171",
         "Result (Overall ssj_ops/watt)": 9971,
         "Sandy Bridge": "False",
         "Ivy Bridge": "False",
         "Haswell": "True",
         "Broadwell": "False",
         "Skylake": "False",
         "Cascade Lake": "False",
         "Coffee Lake": "False",
         "_deepnote_index_column": 477
        },
        {
         "Hardware Vendor Test Sponsor": "Quanta Computer Inc.",
         "System Enclosure (if applicable)": "QuantaGrid D51B-2U",
         "Date Submitted": "Dec 10, 2014",
         "Nodes": 1,
         "JVM Vendor": "IBM Corporation",
         "CPU Description": "Intel Xeon E5-2699 v3",
         "MHz": 2300,
         "Chips": 2,
         "Cores": 36,
         "Total Threads": 72,
         "Total Memory (GB)": 64,
         "ssj_ops @ 100%": "3226361",
         "avg. watts @ 100%": 272,
         "avg. watts @ active idle": "49.6",
         "Result (Overall ssj_ops/watt)": 10238,
         "Sandy Bridge": "False",
         "Ivy Bridge": "False",
         "Haswell": "True",
         "Broadwell": "False",
         "Skylake": "False",
         "Cascade Lake": "False",
         "Coffee Lake": "False",
         "_deepnote_index_column": 478
        },
        {
         "Hardware Vendor Test Sponsor": "Fujitsu",
         "System Enclosure (if applicable)": "FUJITSU Server PRIMERGY TX1320 M1",
         "Date Submitted": "Feb 5, 2015",
         "Nodes": 1,
         "JVM Vendor": "IBM Corporation",
         "CPU Description": "Intel Xeon E3-1275L v3",
         "MHz": 2700,
         "Chips": 1,
         "Cores": 4,
         "Total Threads": 8,
         "Total Memory (GB)": 16,
         "ssj_ops @ 100%": "508794",
         "avg. watts @ 100%": 60,
         "avg. watts @ active idle": "13.3",
         "Result (Overall ssj_ops/watt)": 7535,
         "Sandy Bridge": "False",
         "Ivy Bridge": "False",
         "Haswell": "True",
         "Broadwell": "False",
         "Skylake": "False",
         "Cascade Lake": "False",
         "Coffee Lake": "False",
         "_deepnote_index_column": 480
        },
        {
         "Hardware Vendor Test Sponsor": "Fujitsu",
         "System Enclosure (if applicable)": "FUJITSU Server PRIMERGY RX2530 M1",
         "Date Submitted": "Feb 5, 2015",
         "Nodes": 1,
         "JVM Vendor": "IBM Corporation",
         "CPU Description": "Intel Xeon E5-2699 v3",
         "MHz": 2300,
         "Chips": 2,
         "Cores": 36,
         "Total Threads": 72,
         "Total Memory (GB)": 64,
         "ssj_ops @ 100%": "3231698",
         "avg. watts @ 100%": 289,
         "avg. watts @ active idle": "47.3",
         "Result (Overall ssj_ops/watt)": 9811,
         "Sandy Bridge": "False",
         "Ivy Bridge": "False",
         "Haswell": "True",
         "Broadwell": "False",
         "Skylake": "False",
         "Cascade Lake": "False",
         "Coffee Lake": "False",
         "_deepnote_index_column": 481
        },
        {
         "Hardware Vendor Test Sponsor": "Supermicro Inc.",
         "System Enclosure (if applicable)": "SYS-1028R-WC1RT",
         "Date Submitted": "Feb 11, 2015",
         "Nodes": 1,
         "JVM Vendor": "IBM Corporation",
         "CPU Description": "Intel Xeon E5-2699 v3",
         "MHz": 2300,
         "Chips": 2,
         "Cores": 36,
         "Total Threads": 72,
         "Total Memory (GB)": 32,
         "ssj_ops @ 100%": "2935596",
         "avg. watts @ 100%": 302,
         "avg. watts @ active idle": "75.9",
         "Result (Overall ssj_ops/watt)": 8004,
         "Sandy Bridge": "False",
         "Ivy Bridge": "False",
         "Haswell": "True",
         "Broadwell": "False",
         "Skylake": "False",
         "Cascade Lake": "False",
         "Coffee Lake": "False",
         "_deepnote_index_column": 482
        },
        {
         "Hardware Vendor Test Sponsor": "Dell Inc.",
         "System Enclosure (if applicable)": "PowerEdge R730 (Intel Xeon E5-2699 v3)",
         "Date Submitted": "Feb 18, 2015",
         "Nodes": 1,
         "JVM Vendor": "IBM Corporation",
         "CPU Description": "Intel Xeon E5-2699 v3",
         "MHz": 2300,
         "Chips": 2,
         "Cores": 36,
         "Total Threads": 72,
         "Total Memory (GB)": 64,
         "ssj_ops @ 100%": "3253446",
         "avg. watts @ 100%": 272,
         "avg. watts @ active idle": "46.9",
         "Result (Overall ssj_ops/watt)": 10206,
         "Sandy Bridge": "False",
         "Ivy Bridge": "False",
         "Haswell": "True",
         "Broadwell": "False",
         "Skylake": "False",
         "Cascade Lake": "False",
         "Coffee Lake": "False",
         "_deepnote_index_column": 483
        },
        {
         "Hardware Vendor Test Sponsor": "Sugon",
         "System Enclosure (if applicable)": "Sugon I620-G20",
         "Date Submitted": "Mar 11, 2015",
         "Nodes": 1,
         "JVM Vendor": "IBM Corporation",
         "CPU Description": "Intel Xeon E5-2699 v3",
         "MHz": 2300,
         "Chips": 2,
         "Cores": 36,
         "Total Threads": 72,
         "Total Memory (GB)": 128,
         "ssj_ops @ 100%": "3161325",
         "avg. watts @ 100%": 264,
         "avg. watts @ active idle": "52.5",
         "Result (Overall ssj_ops/watt)": 9939,
         "Sandy Bridge": "False",
         "Ivy Bridge": "False",
         "Haswell": "True",
         "Broadwell": "False",
         "Skylake": "False",
         "Cascade Lake": "False",
         "Coffee Lake": "False",
         "_deepnote_index_column": 484
        },
        {
         "Hardware Vendor Test Sponsor": "Dell Inc.",
         "System Enclosure (if applicable)": "PowerEdge T630 (Intel Xeon E5-2699 v3)",
         "Date Submitted": "Mar 18, 2015",
         "Nodes": 1,
         "JVM Vendor": "IBM Corporation",
         "CPU Description": "Intel Xeon E5-2699 v3",
         "MHz": 2300,
         "Chips": 2,
         "Cores": 36,
         "Total Threads": 72,
         "Total Memory (GB)": 64,
         "ssj_ops @ 100%": "3246430",
         "avg. watts @ 100%": 273,
         "avg. watts @ active idle": "48.1",
         "Result (Overall ssj_ops/watt)": 10103,
         "Sandy Bridge": "False",
         "Ivy Bridge": "False",
         "Haswell": "True",
         "Broadwell": "False",
         "Skylake": "False",
         "Cascade Lake": "False",
         "Coffee Lake": "False",
         "_deepnote_index_column": 485
        },
        {
         "Hardware Vendor Test Sponsor": "Fujitsu",
         "System Enclosure (if applicable)": "FUJITSU Server PRIMERGY TX2560 M1",
         "Date Submitted": "Apr 1, 2015",
         "Nodes": 1,
         "JVM Vendor": "IBM Corporation",
         "CPU Description": "Intel Xeon E5-2699 v3",
         "MHz": 2300,
         "Chips": 2,
         "Cores": 36,
         "Total Threads": 72,
         "Total Memory (GB)": 64,
         "ssj_ops @ 100%": "3253898",
         "avg. watts @ 100%": 264,
         "avg. watts @ active idle": "40",
         "Result (Overall ssj_ops/watt)": 10685,
         "Sandy Bridge": "False",
         "Ivy Bridge": "False",
         "Haswell": "True",
         "Broadwell": "False",
         "Skylake": "False",
         "Cascade Lake": "False",
         "Coffee Lake": "False",
         "_deepnote_index_column": 486
        },
        {
         "Hardware Vendor Test Sponsor": "Fujitsu",
         "System Enclosure (if applicable)": "FUJITSU Server PRIMERGY RX2560 M1",
         "Date Submitted": "Apr 1, 2015",
         "Nodes": 1,
         "JVM Vendor": "IBM Corporation",
         "CPU Description": "Intel Xeon E5-2699 v3",
         "MHz": 2300,
         "Chips": 2,
         "Cores": 36,
         "Total Threads": 72,
         "Total Memory (GB)": 64,
         "ssj_ops @ 100%": "3256040",
         "avg. watts @ 100%": 267,
         "avg. watts @ active idle": "40.1",
         "Result (Overall ssj_ops/watt)": 10699,
         "Sandy Bridge": "False",
         "Ivy Bridge": "False",
         "Haswell": "True",
         "Broadwell": "False",
         "Skylake": "False",
         "Cascade Lake": "False",
         "Coffee Lake": "False",
         "_deepnote_index_column": 487
        },
        {
         "Hardware Vendor Test Sponsor": "Dell Inc.",
         "System Enclosure (if applicable)": "PowerEdge R630 (Intel Xeon E5-2699 v3)",
         "Date Submitted": "Apr 1, 2015",
         "Nodes": 1,
         "JVM Vendor": "IBM Corporation",
         "CPU Description": "Intel Xeon E5-2699 v3",
         "MHz": 2300,
         "Chips": 2,
         "Cores": 36,
         "Total Threads": 72,
         "Total Memory (GB)": 64,
         "ssj_ops @ 100%": "3240418",
         "avg. watts @ 100%": 287,
         "avg. watts @ active idle": "51.2",
         "Result (Overall ssj_ops/watt)": 9749,
         "Sandy Bridge": "False",
         "Ivy Bridge": "False",
         "Haswell": "True",
         "Broadwell": "False",
         "Skylake": "False",
         "Cascade Lake": "False",
         "Coffee Lake": "False",
         "_deepnote_index_column": 488
        },
        {
         "Hardware Vendor Test Sponsor": "Fujitsu",
         "System Enclosure (if applicable)": "FUJITSU Server PRIMERGY RX1330 M1",
         "Date Submitted": "Jun 2, 2015",
         "Nodes": 1,
         "JVM Vendor": "IBM Corporation",
         "CPU Description": "Intel Xeon E3-1275L v3",
         "MHz": 2700,
         "Chips": 1,
         "Cores": 4,
         "Total Threads": 8,
         "Total Memory (GB)": 16,
         "ssj_ops @ 100%": "508013",
         "avg. watts @ 100%": 63.9,
         "avg. watts @ active idle": "16",
         "Result (Overall ssj_ops/watt)": 6916,
         "Sandy Bridge": "False",
         "Ivy Bridge": "False",
         "Haswell": "True",
         "Broadwell": "False",
         "Skylake": "False",
         "Cascade Lake": "False",
         "Coffee Lake": "False",
         "_deepnote_index_column": 489
        },
        {
         "Hardware Vendor Test Sponsor": "Dell Inc.",
         "System Enclosure (if applicable)": "PowerEdge C6320 (Intel Xeon E5-2699 v3) Dell PowerEdge C6000",
         "Date Submitted": "Jul 28, 2015",
         "Nodes": 4,
         "JVM Vendor": "IBM Corporation",
         "CPU Description": "Intel Xeon E5-2699 v3",
         "MHz": 2300,
         "Chips": 8,
         "Cores": 144,
         "Total Threads": 288,
         "Total Memory (GB)": 256,
         "ssj_ops @ 100%": "12942825",
         "avg. watts @ 100%": 1229,
         "avg. watts @ active idle": "210",
         "Result (Overall ssj_ops/watt)": 9472,
         "Sandy Bridge": "False",
         "Ivy Bridge": "False",
         "Haswell": "True",
         "Broadwell": "False",
         "Skylake": "False",
         "Cascade Lake": "False",
         "Coffee Lake": "False",
         "_deepnote_index_column": 490
        },
        {
         "Hardware Vendor Test Sponsor": "Dell Inc.",
         "System Enclosure (if applicable)": "PowerEdge M830 (Intel Xeon E5-4669 v3, 2.10 GHz) Dell PowerEdge M1000e",
         "Date Submitted": "Jul 28, 2015",
         "Nodes": 8,
         "JVM Vendor": "IBM Corporation",
         "CPU Description": "Intel Xeon E5-4669 v3",
         "MHz": 2100,
         "Chips": 32,
         "Cores": 576,
         "Total Threads": 1152,
         "Total Memory (GB)": 1024,
         "ssj_ops @ 100%": "nan",
         "avg. watts @ 100%": "nan",
         "avg. watts @ active idle": "nan",
         "Result (Overall ssj_ops/watt)": "nan",
         "Sandy Bridge": "False",
         "Ivy Bridge": "False",
         "Haswell": "True",
         "Broadwell": "False",
         "Skylake": "False",
         "Cascade Lake": "False",
         "Coffee Lake": "False",
         "_deepnote_index_column": 491
        },
        {
         "Hardware Vendor Test Sponsor": "Dell Inc.",
         "System Enclosure (if applicable)": "PowerEdge FC630 (Intel Xeon E5-2699 v3) Dell PowerEdge FX2",
         "Date Submitted": "Aug 6, 2015",
         "Nodes": 4,
         "JVM Vendor": "IBM Corporation",
         "CPU Description": "Intel Xeon E5-2699 v3",
         "MHz": 2300,
         "Chips": 8,
         "Cores": 144,
         "Total Threads": 288,
         "Total Memory (GB)": 256,
         "ssj_ops @ 100%": "12981292",
         "avg. watts @ 100%": 1256,
         "avg. watts @ active idle": "228",
         "Result (Overall ssj_ops/watt)": 9288,
         "Sandy Bridge": "False",
         "Ivy Bridge": "False",
         "Haswell": "True",
         "Broadwell": "False",
         "Skylake": "False",
         "Cascade Lake": "False",
         "Coffee Lake": "False",
         "_deepnote_index_column": 492
        },
        {
         "Hardware Vendor Test Sponsor": "Huawei Technologies Co., Ltd",
         "System Enclosure (if applicable)": "Fusion Server RH2288H V3",
         "Date Submitted": "Sep 25, 2015",
         "Nodes": 1,
         "JVM Vendor": "IBM Corporation",
         "CPU Description": "Intel Xeon E5-2699 v3",
         "MHz": 2300,
         "Chips": 2,
         "Cores": 36,
         "Total Threads": 72,
         "Total Memory (GB)": 64,
         "ssj_ops @ 100%": "3206810",
         "avg. watts @ 100%": 266,
         "avg. watts @ active idle": "44.8",
         "Result (Overall ssj_ops/watt)": 10700,
         "Sandy Bridge": "False",
         "Ivy Bridge": "False",
         "Haswell": "True",
         "Broadwell": "False",
         "Skylake": "False",
         "Cascade Lake": "False",
         "Coffee Lake": "False",
         "_deepnote_index_column": 493
        },
        {
         "Hardware Vendor Test Sponsor": "Hewlett-Packard Company",
         "System Enclosure (if applicable)": "ProLiant DL560 Gen9",
         "Date Submitted": "Sep 29, 2015",
         "Nodes": 1,
         "JVM Vendor": "IBM Corporation",
         "CPU Description": "Intel Xeon E5-4669 v3",
         "MHz": 2100,
         "Chips": 4,
         "Cores": 72,
         "Total Threads": 144,
         "Total Memory (GB)": 128,
         "ssj_ops @ 100%": "nan",
         "avg. watts @ 100%": "nan",
         "avg. watts @ active idle": "nan",
         "Result (Overall ssj_ops/watt)": "nan",
         "Sandy Bridge": "False",
         "Ivy Bridge": "False",
         "Haswell": "True",
         "Broadwell": "False",
         "Skylake": "False",
         "Cascade Lake": "False",
         "Coffee Lake": "False",
         "_deepnote_index_column": 494
        },
        {
         "Hardware Vendor Test Sponsor": "Hewlett Packard Enterprise",
         "System Enclosure (if applicable)": "ProLiant DL360 Gen9",
         "Date Submitted": "Jan 7, 2016",
         "Nodes": 1,
         "JVM Vendor": "IBM Corporation",
         "CPU Description": "Intel Xeon E5-2699 v3",
         "MHz": 2300,
         "Chips": 2,
         "Cores": 36,
         "Total Threads": 72,
         "Total Memory (GB)": 64,
         "ssj_ops @ 100%": "3159419",
         "avg. watts @ 100%": 276,
         "avg. watts @ active idle": "45",
         "Result (Overall ssj_ops/watt)": 10118,
         "Sandy Bridge": "False",
         "Ivy Bridge": "False",
         "Haswell": "True",
         "Broadwell": "False",
         "Skylake": "False",
         "Cascade Lake": "False",
         "Coffee Lake": "False",
         "_deepnote_index_column": 500
        },
        {
         "Hardware Vendor Test Sponsor": "Hewlett Packard Enterprise",
         "System Enclosure (if applicable)": "ProLiant DL560 Gen9",
         "Date Submitted": "Jun 22, 2016",
         "Nodes": 1,
         "JVM Vendor": "Oracle Corporation",
         "CPU Description": "Intel Xeon E5-4669 v3",
         "MHz": 2100,
         "Chips": 4,
         "Cores": 72,
         "Total Threads": 144,
         "Total Memory (GB)": 64,
         "ssj_ops @ 100%": "5223316",
         "avg. watts @ 100%": 557,
         "avg. watts @ active idle": "86.3",
         "Result (Overall ssj_ops/watt)": 8151,
         "Sandy Bridge": "False",
         "Ivy Bridge": "False",
         "Haswell": "True",
         "Broadwell": "False",
         "Skylake": "False",
         "Cascade Lake": "False",
         "Coffee Lake": "False",
         "_deepnote_index_column": 514
        }
       ],
       "rows_bottom": null
      },
      "text/plain": "     Hardware Vendor Test Sponsor  \\\n444                       Fujitsu   \n458                       Fujitsu   \n470                       Fujitsu   \n472                       Fujitsu   \n473  Huawei Technologies Co., Ltd   \n475            Inspur Corporation   \n477                       Fujitsu   \n478          Quanta Computer Inc.   \n480                       Fujitsu   \n481                       Fujitsu   \n482               Supermicro Inc.   \n483                     Dell Inc.   \n484                         Sugon   \n485                     Dell Inc.   \n486                       Fujitsu   \n487                       Fujitsu   \n488                     Dell Inc.   \n489                       Fujitsu   \n490                     Dell Inc.   \n491                     Dell Inc.   \n492                     Dell Inc.   \n493  Huawei Technologies Co., Ltd   \n494       Hewlett-Packard Company   \n500    Hewlett Packard Enterprise   \n514    Hewlett Packard Enterprise   \n\n                      System Enclosure (if applicable) Date Submitted  Nodes  \\\n444          PRIMERGY TX140 S2 (Intel Xeon E3-1265Lv3)    Oct 2, 2013    1.0   \n458          PRIMERGY RX100 S8 (Intel Xeon E3-1265Lv3)   Nov 13, 2013    1.0   \n470                  FUJITSU Server PRIMERGY RX1330 M1   Aug 22, 2014    1.0   \n472                  FUJITSU Server PRIMERGY RX2540 M1   Oct 21, 2014    1.0   \n473                 XH628 V3 Huawei FusionServer X6800   Oct 21, 2014    3.0   \n475                                           NF5280M4   Nov 12, 2014    1.0   \n477  FUJITSU Server PRIMERGY CX2550 M1 PRIMERGY CX4...   Dec 10, 2014    4.0   \n478                                 QuantaGrid D51B-2U   Dec 10, 2014    1.0   \n480                  FUJITSU Server PRIMERGY TX1320 M1    Feb 5, 2015    1.0   \n481                  FUJITSU Server PRIMERGY RX2530 M1    Feb 5, 2015    1.0   \n482                                    SYS-1028R-WC1RT   Feb 11, 2015    1.0   \n483             PowerEdge R730 (Intel Xeon E5-2699 v3)   Feb 18, 2015    1.0   \n484                                     Sugon I620-G20   Mar 11, 2015    1.0   \n485             PowerEdge T630 (Intel Xeon E5-2699 v3)   Mar 18, 2015    1.0   \n486                  FUJITSU Server PRIMERGY TX2560 M1    Apr 1, 2015    1.0   \n487                  FUJITSU Server PRIMERGY RX2560 M1    Apr 1, 2015    1.0   \n488             PowerEdge R630 (Intel Xeon E5-2699 v3)    Apr 1, 2015    1.0   \n489                  FUJITSU Server PRIMERGY RX1330 M1    Jun 2, 2015    1.0   \n490  PowerEdge C6320 (Intel Xeon E5-2699 v3) Dell P...   Jul 28, 2015    4.0   \n491  PowerEdge M830 (Intel Xeon E5-4669 v3, 2.10 GH...   Jul 28, 2015    8.0   \n492  PowerEdge FC630 (Intel Xeon E5-2699 v3) Dell P...    Aug 6, 2015    4.0   \n493                           Fusion Server RH2288H V3   Sep 25, 2015    1.0   \n494                                ProLiant DL560 Gen9   Sep 29, 2015    1.0   \n500                                ProLiant DL360 Gen9    Jan 7, 2016    1.0   \n514                                ProLiant DL560 Gen9   Jun 22, 2016    1.0   \n\n             JVM Vendor         CPU Description   MHz  Chips  Cores  \\\n444     IBM Corporation  Intel Xeon E3-1265L v3  2500      1      4   \n458     IBM Corporation  Intel Xeon E3-1265L v3  2500      1      4   \n470     IBM Corporation  Intel Xeon E3-1275L v3  2500      1      4   \n472     IBM Corporation   Intel Xeon E5-2699 v3  2300      2     36   \n473     IBM Corporation   Intel Xeon E5-2699 v3  2300      6    108   \n475     IBM Corporation   Intel Xeon E5-2699 v3  2300      2     36   \n477     IBM Corporation   Intel Xeon E5-2699 v3  2300      8    144   \n478     IBM Corporation   Intel Xeon E5-2699 v3  2300      2     36   \n480     IBM Corporation  Intel Xeon E3-1275L v3  2700      1      4   \n481     IBM Corporation   Intel Xeon E5-2699 v3  2300      2     36   \n482     IBM Corporation   Intel Xeon E5-2699 v3  2300      2     36   \n483     IBM Corporation   Intel Xeon E5-2699 v3  2300      2     36   \n484     IBM Corporation   Intel Xeon E5-2699 v3  2300      2     36   \n485     IBM Corporation   Intel Xeon E5-2699 v3  2300      2     36   \n486     IBM Corporation   Intel Xeon E5-2699 v3  2300      2     36   \n487     IBM Corporation   Intel Xeon E5-2699 v3  2300      2     36   \n488     IBM Corporation   Intel Xeon E5-2699 v3  2300      2     36   \n489     IBM Corporation  Intel Xeon E3-1275L v3  2700      1      4   \n490     IBM Corporation   Intel Xeon E5-2699 v3  2300      8    144   \n491     IBM Corporation   Intel Xeon E5-4669 v3  2100     32    576   \n492     IBM Corporation   Intel Xeon E5-2699 v3  2300      8    144   \n493     IBM Corporation   Intel Xeon E5-2699 v3  2300      2     36   \n494     IBM Corporation   Intel Xeon E5-4669 v3  2100      4     72   \n500     IBM Corporation   Intel Xeon E5-2699 v3  2300      2     36   \n514  Oracle Corporation   Intel Xeon E5-4669 v3  2100      4     72   \n\n     Total Threads  ...  avg. watts @ 100% avg. watts @ active idle  \\\n444              8  ...               58.5                       19   \n458              8  ...               69.8                     17.7   \n470              8  ...                NaN                      NaN   \n472             72  ...              271.0                       39   \n473            216  ...                NaN                      NaN   \n475             72  ...                NaN                      NaN   \n477            288  ...             1152.0                      171   \n478             72  ...              272.0                     49.6   \n480              8  ...               60.0                     13.3   \n481             72  ...              289.0                     47.3   \n482             72  ...              302.0                     75.9   \n483             72  ...              272.0                     46.9   \n484             72  ...              264.0                     52.5   \n485             72  ...              273.0                     48.1   \n486             72  ...              264.0                       40   \n487             72  ...              267.0                     40.1   \n488             72  ...              287.0                     51.2   \n489              8  ...               63.9                       16   \n490            288  ...             1229.0                      210   \n491           1152  ...                NaN                      NaN   \n492            288  ...             1256.0                      228   \n493             72  ...              266.0                     44.8   \n494            144  ...                NaN                      NaN   \n500             72  ...              276.0                       45   \n514            144  ...              557.0                     86.3   \n\n     Result (Overall ssj_ops/watt) Sandy Bridge  Ivy Bridge Haswell Broadwell  \\\n444                         6797.0        False       False    True     False   \n458                         6137.0        False       False    True     False   \n470                            NaN        False       False    True     False   \n472                        10654.0        False       False    True     False   \n473                            NaN        False       False    True     False   \n475                            NaN        False       False    True     False   \n477                         9971.0        False       False    True     False   \n478                        10238.0        False       False    True     False   \n480                         7535.0        False       False    True     False   \n481                         9811.0        False       False    True     False   \n482                         8004.0        False       False    True     False   \n483                        10206.0        False       False    True     False   \n484                         9939.0        False       False    True     False   \n485                        10103.0        False       False    True     False   \n486                        10685.0        False       False    True     False   \n487                        10699.0        False       False    True     False   \n488                         9749.0        False       False    True     False   \n489                         6916.0        False       False    True     False   \n490                         9472.0        False       False    True     False   \n491                            NaN        False       False    True     False   \n492                         9288.0        False       False    True     False   \n493                        10700.0        False       False    True     False   \n494                            NaN        False       False    True     False   \n500                        10118.0        False       False    True     False   \n514                         8151.0        False       False    True     False   \n\n    Skylake Cascade Lake Coffee Lake  \n444   False        False       False  \n458   False        False       False  \n470   False        False       False  \n472   False        False       False  \n473   False        False       False  \n475   False        False       False  \n477   False        False       False  \n478   False        False       False  \n480   False        False       False  \n481   False        False       False  \n482   False        False       False  \n483   False        False       False  \n484   False        False       False  \n485   False        False       False  \n486   False        False       False  \n487   False        False       False  \n488   False        False       False  \n489   False        False       False  \n490   False        False       False  \n491   False        False       False  \n492   False        False       False  \n493   False        False       False  \n494   False        False       False  \n500   False        False       False  \n514   False        False       False  \n\n[25 rows x 22 columns]",
      "text/html": "<div>\n<style scoped>\n    .dataframe tbody tr th:only-of-type {\n        vertical-align: middle;\n    }\n\n    .dataframe tbody tr th {\n        vertical-align: top;\n    }\n\n    .dataframe thead th {\n        text-align: right;\n    }\n</style>\n<table border=\"1\" class=\"dataframe\">\n  <thead>\n    <tr style=\"text-align: right;\">\n      <th></th>\n      <th>Hardware Vendor Test Sponsor</th>\n      <th>System Enclosure (if applicable)</th>\n      <th>Date Submitted</th>\n      <th>Nodes</th>\n      <th>JVM Vendor</th>\n      <th>CPU Description</th>\n      <th>MHz</th>\n      <th>Chips</th>\n      <th>Cores</th>\n      <th>Total Threads</th>\n      <th>...</th>\n      <th>avg. watts @ 100%</th>\n      <th>avg. watts @ active idle</th>\n      <th>Result (Overall ssj_ops/watt)</th>\n      <th>Sandy Bridge</th>\n      <th>Ivy Bridge</th>\n      <th>Haswell</th>\n      <th>Broadwell</th>\n      <th>Skylake</th>\n      <th>Cascade Lake</th>\n      <th>Coffee Lake</th>\n    </tr>\n  </thead>\n  <tbody>\n    <tr>\n      <th>444</th>\n      <td>Fujitsu</td>\n      <td>PRIMERGY TX140 S2 (Intel Xeon E3-1265Lv3)</td>\n      <td>Oct 2, 2013</td>\n      <td>1.0</td>\n      <td>IBM Corporation</td>\n      <td>Intel Xeon E3-1265L v3</td>\n      <td>2500</td>\n      <td>1</td>\n      <td>4</td>\n      <td>8</td>\n      <td>...</td>\n      <td>58.5</td>\n      <td>19</td>\n      <td>6797.0</td>\n      <td>False</td>\n      <td>False</td>\n      <td>True</td>\n      <td>False</td>\n      <td>False</td>\n      <td>False</td>\n      <td>False</td>\n    </tr>\n    <tr>\n      <th>458</th>\n      <td>Fujitsu</td>\n      <td>PRIMERGY RX100 S8 (Intel Xeon E3-1265Lv3)</td>\n      <td>Nov 13, 2013</td>\n      <td>1.0</td>\n      <td>IBM Corporation</td>\n      <td>Intel Xeon E3-1265L v3</td>\n      <td>2500</td>\n      <td>1</td>\n      <td>4</td>\n      <td>8</td>\n      <td>...</td>\n      <td>69.8</td>\n      <td>17.7</td>\n      <td>6137.0</td>\n      <td>False</td>\n      <td>False</td>\n      <td>True</td>\n      <td>False</td>\n      <td>False</td>\n      <td>False</td>\n      <td>False</td>\n    </tr>\n    <tr>\n      <th>470</th>\n      <td>Fujitsu</td>\n      <td>FUJITSU Server PRIMERGY RX1330 M1</td>\n      <td>Aug 22, 2014</td>\n      <td>1.0</td>\n      <td>IBM Corporation</td>\n      <td>Intel Xeon E3-1275L v3</td>\n      <td>2500</td>\n      <td>1</td>\n      <td>4</td>\n      <td>8</td>\n      <td>...</td>\n      <td>NaN</td>\n      <td>NaN</td>\n      <td>NaN</td>\n      <td>False</td>\n      <td>False</td>\n      <td>True</td>\n      <td>False</td>\n      <td>False</td>\n      <td>False</td>\n      <td>False</td>\n    </tr>\n    <tr>\n      <th>472</th>\n      <td>Fujitsu</td>\n      <td>FUJITSU Server PRIMERGY RX2540 M1</td>\n      <td>Oct 21, 2014</td>\n      <td>1.0</td>\n      <td>IBM Corporation</td>\n      <td>Intel Xeon E5-2699 v3</td>\n      <td>2300</td>\n      <td>2</td>\n      <td>36</td>\n      <td>72</td>\n      <td>...</td>\n      <td>271.0</td>\n      <td>39</td>\n      <td>10654.0</td>\n      <td>False</td>\n      <td>False</td>\n      <td>True</td>\n      <td>False</td>\n      <td>False</td>\n      <td>False</td>\n      <td>False</td>\n    </tr>\n    <tr>\n      <th>473</th>\n      <td>Huawei Technologies Co., Ltd</td>\n      <td>XH628 V3 Huawei FusionServer X6800</td>\n      <td>Oct 21, 2014</td>\n      <td>3.0</td>\n      <td>IBM Corporation</td>\n      <td>Intel Xeon E5-2699 v3</td>\n      <td>2300</td>\n      <td>6</td>\n      <td>108</td>\n      <td>216</td>\n      <td>...</td>\n      <td>NaN</td>\n      <td>NaN</td>\n      <td>NaN</td>\n      <td>False</td>\n      <td>False</td>\n      <td>True</td>\n      <td>False</td>\n      <td>False</td>\n      <td>False</td>\n      <td>False</td>\n    </tr>\n    <tr>\n      <th>475</th>\n      <td>Inspur Corporation</td>\n      <td>NF5280M4</td>\n      <td>Nov 12, 2014</td>\n      <td>1.0</td>\n      <td>IBM Corporation</td>\n      <td>Intel Xeon E5-2699 v3</td>\n      <td>2300</td>\n      <td>2</td>\n      <td>36</td>\n      <td>72</td>\n      <td>...</td>\n      <td>NaN</td>\n      <td>NaN</td>\n      <td>NaN</td>\n      <td>False</td>\n      <td>False</td>\n      <td>True</td>\n      <td>False</td>\n      <td>False</td>\n      <td>False</td>\n      <td>False</td>\n    </tr>\n    <tr>\n      <th>477</th>\n      <td>Fujitsu</td>\n      <td>FUJITSU Server PRIMERGY CX2550 M1 PRIMERGY CX4...</td>\n      <td>Dec 10, 2014</td>\n      <td>4.0</td>\n      <td>IBM Corporation</td>\n      <td>Intel Xeon E5-2699 v3</td>\n      <td>2300</td>\n      <td>8</td>\n      <td>144</td>\n      <td>288</td>\n      <td>...</td>\n      <td>1152.0</td>\n      <td>171</td>\n      <td>9971.0</td>\n      <td>False</td>\n      <td>False</td>\n      <td>True</td>\n      <td>False</td>\n      <td>False</td>\n      <td>False</td>\n      <td>False</td>\n    </tr>\n    <tr>\n      <th>478</th>\n      <td>Quanta Computer Inc.</td>\n      <td>QuantaGrid D51B-2U</td>\n      <td>Dec 10, 2014</td>\n      <td>1.0</td>\n      <td>IBM Corporation</td>\n      <td>Intel Xeon E5-2699 v3</td>\n      <td>2300</td>\n      <td>2</td>\n      <td>36</td>\n      <td>72</td>\n      <td>...</td>\n      <td>272.0</td>\n      <td>49.6</td>\n      <td>10238.0</td>\n      <td>False</td>\n      <td>False</td>\n      <td>True</td>\n      <td>False</td>\n      <td>False</td>\n      <td>False</td>\n      <td>False</td>\n    </tr>\n    <tr>\n      <th>480</th>\n      <td>Fujitsu</td>\n      <td>FUJITSU Server PRIMERGY TX1320 M1</td>\n      <td>Feb 5, 2015</td>\n      <td>1.0</td>\n      <td>IBM Corporation</td>\n      <td>Intel Xeon E3-1275L v3</td>\n      <td>2700</td>\n      <td>1</td>\n      <td>4</td>\n      <td>8</td>\n      <td>...</td>\n      <td>60.0</td>\n      <td>13.3</td>\n      <td>7535.0</td>\n      <td>False</td>\n      <td>False</td>\n      <td>True</td>\n      <td>False</td>\n      <td>False</td>\n      <td>False</td>\n      <td>False</td>\n    </tr>\n    <tr>\n      <th>481</th>\n      <td>Fujitsu</td>\n      <td>FUJITSU Server PRIMERGY RX2530 M1</td>\n      <td>Feb 5, 2015</td>\n      <td>1.0</td>\n      <td>IBM Corporation</td>\n      <td>Intel Xeon E5-2699 v3</td>\n      <td>2300</td>\n      <td>2</td>\n      <td>36</td>\n      <td>72</td>\n      <td>...</td>\n      <td>289.0</td>\n      <td>47.3</td>\n      <td>9811.0</td>\n      <td>False</td>\n      <td>False</td>\n      <td>True</td>\n      <td>False</td>\n      <td>False</td>\n      <td>False</td>\n      <td>False</td>\n    </tr>\n    <tr>\n      <th>482</th>\n      <td>Supermicro Inc.</td>\n      <td>SYS-1028R-WC1RT</td>\n      <td>Feb 11, 2015</td>\n      <td>1.0</td>\n      <td>IBM Corporation</td>\n      <td>Intel Xeon E5-2699 v3</td>\n      <td>2300</td>\n      <td>2</td>\n      <td>36</td>\n      <td>72</td>\n      <td>...</td>\n      <td>302.0</td>\n      <td>75.9</td>\n      <td>8004.0</td>\n      <td>False</td>\n      <td>False</td>\n      <td>True</td>\n      <td>False</td>\n      <td>False</td>\n      <td>False</td>\n      <td>False</td>\n    </tr>\n    <tr>\n      <th>483</th>\n      <td>Dell Inc.</td>\n      <td>PowerEdge R730 (Intel Xeon E5-2699 v3)</td>\n      <td>Feb 18, 2015</td>\n      <td>1.0</td>\n      <td>IBM Corporation</td>\n      <td>Intel Xeon E5-2699 v3</td>\n      <td>2300</td>\n      <td>2</td>\n      <td>36</td>\n      <td>72</td>\n      <td>...</td>\n      <td>272.0</td>\n      <td>46.9</td>\n      <td>10206.0</td>\n      <td>False</td>\n      <td>False</td>\n      <td>True</td>\n      <td>False</td>\n      <td>False</td>\n      <td>False</td>\n      <td>False</td>\n    </tr>\n    <tr>\n      <th>484</th>\n      <td>Sugon</td>\n      <td>Sugon I620-G20</td>\n      <td>Mar 11, 2015</td>\n      <td>1.0</td>\n      <td>IBM Corporation</td>\n      <td>Intel Xeon E5-2699 v3</td>\n      <td>2300</td>\n      <td>2</td>\n      <td>36</td>\n      <td>72</td>\n      <td>...</td>\n      <td>264.0</td>\n      <td>52.5</td>\n      <td>9939.0</td>\n      <td>False</td>\n      <td>False</td>\n      <td>True</td>\n      <td>False</td>\n      <td>False</td>\n      <td>False</td>\n      <td>False</td>\n    </tr>\n    <tr>\n      <th>485</th>\n      <td>Dell Inc.</td>\n      <td>PowerEdge T630 (Intel Xeon E5-2699 v3)</td>\n      <td>Mar 18, 2015</td>\n      <td>1.0</td>\n      <td>IBM Corporation</td>\n      <td>Intel Xeon E5-2699 v3</td>\n      <td>2300</td>\n      <td>2</td>\n      <td>36</td>\n      <td>72</td>\n      <td>...</td>\n      <td>273.0</td>\n      <td>48.1</td>\n      <td>10103.0</td>\n      <td>False</td>\n      <td>False</td>\n      <td>True</td>\n      <td>False</td>\n      <td>False</td>\n      <td>False</td>\n      <td>False</td>\n    </tr>\n    <tr>\n      <th>486</th>\n      <td>Fujitsu</td>\n      <td>FUJITSU Server PRIMERGY TX2560 M1</td>\n      <td>Apr 1, 2015</td>\n      <td>1.0</td>\n      <td>IBM Corporation</td>\n      <td>Intel Xeon E5-2699 v3</td>\n      <td>2300</td>\n      <td>2</td>\n      <td>36</td>\n      <td>72</td>\n      <td>...</td>\n      <td>264.0</td>\n      <td>40</td>\n      <td>10685.0</td>\n      <td>False</td>\n      <td>False</td>\n      <td>True</td>\n      <td>False</td>\n      <td>False</td>\n      <td>False</td>\n      <td>False</td>\n    </tr>\n    <tr>\n      <th>487</th>\n      <td>Fujitsu</td>\n      <td>FUJITSU Server PRIMERGY RX2560 M1</td>\n      <td>Apr 1, 2015</td>\n      <td>1.0</td>\n      <td>IBM Corporation</td>\n      <td>Intel Xeon E5-2699 v3</td>\n      <td>2300</td>\n      <td>2</td>\n      <td>36</td>\n      <td>72</td>\n      <td>...</td>\n      <td>267.0</td>\n      <td>40.1</td>\n      <td>10699.0</td>\n      <td>False</td>\n      <td>False</td>\n      <td>True</td>\n      <td>False</td>\n      <td>False</td>\n      <td>False</td>\n      <td>False</td>\n    </tr>\n    <tr>\n      <th>488</th>\n      <td>Dell Inc.</td>\n      <td>PowerEdge R630 (Intel Xeon E5-2699 v3)</td>\n      <td>Apr 1, 2015</td>\n      <td>1.0</td>\n      <td>IBM Corporation</td>\n      <td>Intel Xeon E5-2699 v3</td>\n      <td>2300</td>\n      <td>2</td>\n      <td>36</td>\n      <td>72</td>\n      <td>...</td>\n      <td>287.0</td>\n      <td>51.2</td>\n      <td>9749.0</td>\n      <td>False</td>\n      <td>False</td>\n      <td>True</td>\n      <td>False</td>\n      <td>False</td>\n      <td>False</td>\n      <td>False</td>\n    </tr>\n    <tr>\n      <th>489</th>\n      <td>Fujitsu</td>\n      <td>FUJITSU Server PRIMERGY RX1330 M1</td>\n      <td>Jun 2, 2015</td>\n      <td>1.0</td>\n      <td>IBM Corporation</td>\n      <td>Intel Xeon E3-1275L v3</td>\n      <td>2700</td>\n      <td>1</td>\n      <td>4</td>\n      <td>8</td>\n      <td>...</td>\n      <td>63.9</td>\n      <td>16</td>\n      <td>6916.0</td>\n      <td>False</td>\n      <td>False</td>\n      <td>True</td>\n      <td>False</td>\n      <td>False</td>\n      <td>False</td>\n      <td>False</td>\n    </tr>\n    <tr>\n      <th>490</th>\n      <td>Dell Inc.</td>\n      <td>PowerEdge C6320 (Intel Xeon E5-2699 v3) Dell P...</td>\n      <td>Jul 28, 2015</td>\n      <td>4.0</td>\n      <td>IBM Corporation</td>\n      <td>Intel Xeon E5-2699 v3</td>\n      <td>2300</td>\n      <td>8</td>\n      <td>144</td>\n      <td>288</td>\n      <td>...</td>\n      <td>1229.0</td>\n      <td>210</td>\n      <td>9472.0</td>\n      <td>False</td>\n      <td>False</td>\n      <td>True</td>\n      <td>False</td>\n      <td>False</td>\n      <td>False</td>\n      <td>False</td>\n    </tr>\n    <tr>\n      <th>491</th>\n      <td>Dell Inc.</td>\n      <td>PowerEdge M830 (Intel Xeon E5-4669 v3, 2.10 GH...</td>\n      <td>Jul 28, 2015</td>\n      <td>8.0</td>\n      <td>IBM Corporation</td>\n      <td>Intel Xeon E5-4669 v3</td>\n      <td>2100</td>\n      <td>32</td>\n      <td>576</td>\n      <td>1152</td>\n      <td>...</td>\n      <td>NaN</td>\n      <td>NaN</td>\n      <td>NaN</td>\n      <td>False</td>\n      <td>False</td>\n      <td>True</td>\n      <td>False</td>\n      <td>False</td>\n      <td>False</td>\n      <td>False</td>\n    </tr>\n    <tr>\n      <th>492</th>\n      <td>Dell Inc.</td>\n      <td>PowerEdge FC630 (Intel Xeon E5-2699 v3) Dell P...</td>\n      <td>Aug 6, 2015</td>\n      <td>4.0</td>\n      <td>IBM Corporation</td>\n      <td>Intel Xeon E5-2699 v3</td>\n      <td>2300</td>\n      <td>8</td>\n      <td>144</td>\n      <td>288</td>\n      <td>...</td>\n      <td>1256.0</td>\n      <td>228</td>\n      <td>9288.0</td>\n      <td>False</td>\n      <td>False</td>\n      <td>True</td>\n      <td>False</td>\n      <td>False</td>\n      <td>False</td>\n      <td>False</td>\n    </tr>\n    <tr>\n      <th>493</th>\n      <td>Huawei Technologies Co., Ltd</td>\n      <td>Fusion Server RH2288H V3</td>\n      <td>Sep 25, 2015</td>\n      <td>1.0</td>\n      <td>IBM Corporation</td>\n      <td>Intel Xeon E5-2699 v3</td>\n      <td>2300</td>\n      <td>2</td>\n      <td>36</td>\n      <td>72</td>\n      <td>...</td>\n      <td>266.0</td>\n      <td>44.8</td>\n      <td>10700.0</td>\n      <td>False</td>\n      <td>False</td>\n      <td>True</td>\n      <td>False</td>\n      <td>False</td>\n      <td>False</td>\n      <td>False</td>\n    </tr>\n    <tr>\n      <th>494</th>\n      <td>Hewlett-Packard Company</td>\n      <td>ProLiant DL560 Gen9</td>\n      <td>Sep 29, 2015</td>\n      <td>1.0</td>\n      <td>IBM Corporation</td>\n      <td>Intel Xeon E5-4669 v3</td>\n      <td>2100</td>\n      <td>4</td>\n      <td>72</td>\n      <td>144</td>\n      <td>...</td>\n      <td>NaN</td>\n      <td>NaN</td>\n      <td>NaN</td>\n      <td>False</td>\n      <td>False</td>\n      <td>True</td>\n      <td>False</td>\n      <td>False</td>\n      <td>False</td>\n      <td>False</td>\n    </tr>\n    <tr>\n      <th>500</th>\n      <td>Hewlett Packard Enterprise</td>\n      <td>ProLiant DL360 Gen9</td>\n      <td>Jan 7, 2016</td>\n      <td>1.0</td>\n      <td>IBM Corporation</td>\n      <td>Intel Xeon E5-2699 v3</td>\n      <td>2300</td>\n      <td>2</td>\n      <td>36</td>\n      <td>72</td>\n      <td>...</td>\n      <td>276.0</td>\n      <td>45</td>\n      <td>10118.0</td>\n      <td>False</td>\n      <td>False</td>\n      <td>True</td>\n      <td>False</td>\n      <td>False</td>\n      <td>False</td>\n      <td>False</td>\n    </tr>\n    <tr>\n      <th>514</th>\n      <td>Hewlett Packard Enterprise</td>\n      <td>ProLiant DL560 Gen9</td>\n      <td>Jun 22, 2016</td>\n      <td>1.0</td>\n      <td>Oracle Corporation</td>\n      <td>Intel Xeon E5-4669 v3</td>\n      <td>2100</td>\n      <td>4</td>\n      <td>72</td>\n      <td>144</td>\n      <td>...</td>\n      <td>557.0</td>\n      <td>86.3</td>\n      <td>8151.0</td>\n      <td>False</td>\n      <td>False</td>\n      <td>True</td>\n      <td>False</td>\n      <td>False</td>\n      <td>False</td>\n      <td>False</td>\n    </tr>\n  </tbody>\n</table>\n<p>25 rows × 22 columns</p>\n</div>"
     },
     "metadata": {}
    }
   ]
  },
  {
   "cell_type": "markdown",
   "source": "### Intel: Broadwell",
   "metadata": {
    "tags": [],
    "cell_id": "00008-46b9bb7e-24f0-4cdf-8bf3-b588f98b275a",
    "deepnote_cell_type": "markdown"
   }
  },
  {
   "cell_type": "code",
   "metadata": {
    "tags": [],
    "cell_id": "00010-da2a934a-41b2-41ce-984b-0e02a8cd407b",
    "deepnote_to_be_reexecuted": false,
    "source_hash": "d424c072",
    "allow_embed": false,
    "execution_start": 1623959240710,
    "execution_millis": 51,
    "deepnote_cell_type": "code"
   },
   "source": "# Construct regex to match the chip name exactly to the end of the line\n# (See notes above on regex and clean data)\ncpus_re = [rf'(\\b{string}$)' for string in cpus_intel_broadwell]\nservers_intel_broadwell = servers[servers['CPU Description'].str.contains('|'.join(cpus_re))]\n\nintel_broadwell = {}\nintel_broadwell['idle_watts'] = (servers_intel_broadwell['avg. watts @ active idle'].astype(float) / servers_intel_broadwell['Total Threads']).mean()\nintel_broadwell['100% watts'] = (servers_intel_broadwell['avg. watts @ 100%'].astype(float) / servers_intel_broadwell['Total Threads']).mean()\nintel_broadwell['GB/Chip'] = (servers_intel_broadwell['Total Memory (GB)'] / servers_intel_broadwell['Chips']).mean()\nintel_broadwell",
   "execution_count": 8,
   "outputs": [
    {
     "name": "stderr",
     "text": "/shared-libs/python3.9/py/lib/python3.9/site-packages/pandas/core/strings/accessor.py:101: UserWarning: This pattern has match groups. To actually get the groups, use str.extract.\n  return func(self, *args, **kwargs)\n",
     "output_type": "stream"
    },
    {
     "output_type": "execute_result",
     "execution_count": 8,
     "data": {
      "text/plain": "{'idle_watts': 0.5256774475524476,\n '100% watts': 3.048841783216784,\n 'GB/Chip': 46.76923076923077}"
     },
     "metadata": {}
    }
   ]
  },
  {
   "cell_type": "markdown",
   "source": "### Intel: Sky Lake",
   "metadata": {
    "tags": [],
    "cell_id": "00008-91fe6896-5050-4356-afe8-2fd78257cd0f",
    "deepnote_cell_type": "markdown"
   }
  },
  {
   "cell_type": "code",
   "metadata": {
    "tags": [],
    "cell_id": "00010-36735c0f-a581-4af5-ba6d-05e660f9737e",
    "deepnote_to_be_reexecuted": false,
    "source_hash": "b06b0dfe",
    "allow_embed": false,
    "execution_start": 1623959240785,
    "execution_millis": 96,
    "deepnote_cell_type": "code"
   },
   "source": "# Construct regex to match the chip name exactly to the end of the line\n# (See notes above on regex and clean data)\ncpus_re = [rf'(\\b{string}$)' for string in cpus_intel_skylake]\nservers_intel_skylake = servers[servers['CPU Description'].str.contains('|'.join(cpus_re))]\n\nintel_skylake = {}\nintel_skylake['idle_watts'] = (servers_intel_skylake['avg. watts @ active idle'].astype(float) / servers_intel_skylake['Total Threads']).mean()\nintel_skylake['100% watts'] = (servers_intel_skylake['avg. watts @ 100%'].astype(float) / servers_intel_skylake['Total Threads']).mean()\nintel_skylake['GB/Chip'] = (servers_intel_skylake['Total Memory (GB)'] / servers_intel_skylake['Chips']).mean()\nintel_skylake",
   "execution_count": 9,
   "outputs": [
    {
     "output_type": "execute_result",
     "execution_count": 9,
     "data": {
      "text/plain": "{'idle_watts': 0.6522727665317579,\n '100% watts': 4.255505654535773,\n 'GB/Chip': 81.32432432432432}"
     },
     "metadata": {}
    }
   ]
  },
  {
   "cell_type": "markdown",
   "source": "### Intel: Cascade Lake",
   "metadata": {
    "tags": [],
    "cell_id": "00008-edf81ea5-637b-4a57-ba14-1db722349558",
    "deepnote_cell_type": "markdown"
   }
  },
  {
   "cell_type": "code",
   "metadata": {
    "tags": [],
    "cell_id": "00010-ba0a1bb4-0adc-4768-bd73-fbba19661e74",
    "deepnote_to_be_reexecuted": false,
    "source_hash": "a85cd57d",
    "allow_embed": false,
    "execution_start": 1623959240890,
    "execution_millis": 58,
    "deepnote_cell_type": "code"
   },
   "source": "# Construct regex to match the chip name exactly to the end of the line\n# (See notes above on regex and clean data)\ncpus_re = [rf'(\\b{string}$)' for string in cpus_intel_cascadelake]\nservers_intel_cascadelake = servers[servers['CPU Description'].str.contains('|'.join(cpus_re))]\n\nintel_cascadelake = {}\nintel_cascadelake['idle_watts'] = (servers_intel_cascadelake['avg. watts @ active idle'].astype(float) / servers_intel_cascadelake['Total Threads']).mean()\nintel_cascadelake['100% watts'] = (servers_intel_cascadelake['avg. watts @ 100%'].astype(float) / servers_intel_cascadelake['Total Threads']).mean()\nintel_cascadelake['GB/Chip'] = (servers_intel_cascadelake['Total Memory (GB)'] / servers_intel_cascadelake['Chips']).mean()\nintel_cascadelake",
   "execution_count": 10,
   "outputs": [
    {
     "output_type": "execute_result",
     "execution_count": 10,
     "data": {
      "text/plain": "{'idle_watts': 0.6389493581523519,\n '100% watts': 3.9673047343937564,\n 'GB/Chip': 98.11764705882354}"
     },
     "metadata": {}
    }
   ]
  },
  {
   "cell_type": "markdown",
   "source": "### Intel: Coffee Lake",
   "metadata": {
    "tags": [],
    "cell_id": "00008-2ea2b48e-5000-450c-80c7-712a5946202a",
    "deepnote_cell_type": "markdown"
   }
  },
  {
   "cell_type": "code",
   "metadata": {
    "tags": [],
    "cell_id": "00009-a23988b8-dce7-4510-8aec-dbc2a1bca206",
    "deepnote_to_be_reexecuted": false,
    "source_hash": "7a3f625",
    "allow_embed": false,
    "execution_start": 1623959240963,
    "execution_millis": 8,
    "deepnote_cell_type": "code"
   },
   "source": "# Construct regex to match the chip name exactly to the end of the line\n# (See notes above on regex and clean data)\ncpus_re = [rf'(\\b{string}$)' for string in cpus_intel_coffeelake]\nservers_intel_coffeelake = servers[servers['CPU Description'].str.contains('|'.join(cpus_re))]\n\nintel_coffeelake = {}\nintel_coffeelake['idle_watts'] = (servers_intel_coffeelake['avg. watts @ active idle'].astype(float) / servers_intel_coffeelake['Total Threads']).mean()\nintel_coffeelake['100% watts'] = (servers_intel_coffeelake['avg. watts @ 100%'].astype(float) / servers_intel_coffeelake['Total Threads']).mean()\nintel_coffeelake['GB/Chip'] = (servers_intel_coffeelake['Total Memory (GB)'] / servers_intel_coffeelake['Chips']).mean()\nintel_coffeelake",
   "execution_count": 11,
   "outputs": [
    {
     "output_type": "execute_result",
     "execution_count": 11,
     "data": {
      "text/plain": "{'idle_watts': 1.138425925925926,\n '100% watts': 5.421759259259258,\n 'GB/Chip': 19.555555555555557}"
     },
     "metadata": {}
    }
   ]
  },
  {
   "cell_type": "markdown",
   "source": "<a style='text-decoration:none;line-height:16px;display:flex;color:#5B5B62;padding:10px;justify-content:end;' href='https://deepnote.com?utm_source=created-in-deepnote-cell&projectId=2bb85156-92ac-4c34-9a24-94671c8f593c' target=\"_blank\">\n<img alt='Created in deepnote.com' style='display:inline;max-height:16px;margin:0px;margin-right:7.5px;' src='data:image/svg+xml;base64,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' > </img>\nCreated in <span style='font-weight:600;margin-left:4px;'>Deepnote</span></a>",
   "metadata": {
    "tags": [],
    "created_in_deepnote_cell": true,
    "deepnote_cell_type": "markdown"
   }
  }
 ],
 "nbformat": 4,
 "nbformat_minor": 2,
 "metadata": {
  "orig_nbformat": 2,
  "deepnote": {
   "is_reactive": false
  },
  "deepnote_notebook_id": "12ca549f-374b-4ae3-a3fd-1c755a20e197",
  "deepnote_execution_queue": []
 }
}