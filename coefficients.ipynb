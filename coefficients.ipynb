{
 "cells": [
  {
   "cell_type": "markdown",
   "source": "# Cloud Carbon Coefficients\n\nThis notebook calculates the coefficients used in [Cloud Carbon Footprint](https://www.cloudcarbonfootprint.org/), an application that estimates the energy (kilowatt hours) and carbon emissions (metric tons CO2e) of public cloud provider utilization.",
   "metadata": {
    "tags": [],
    "cell_id": "00000-8646918d-c506-4d18-b057-3b5bb2e22266",
    "deepnote_cell_type": "markdown"
   }
  },
  {
   "cell_type": "markdown",
   "source": "#### Imports",
   "metadata": {
    "tags": [],
    "cell_id": "00001-f09ac78b-3251-466f-bab5-4c70958818e1",
    "deepnote_cell_type": "markdown"
   }
  },
  {
   "cell_type": "code",
   "metadata": {
    "tags": [],
    "cell_id": "00000-81948d95-fe93-4df9-b019-6c77253d192c",
    "deepnote_to_be_reexecuted": false,
    "source_hash": "6847ec8f",
    "execution_start": 1623526005923,
    "execution_millis": 3187,
    "deepnote_cell_type": "code"
   },
   "source": "%pip install -r requirements.txt\n\nimport csv\nimport numpy as np\nimport pandas as pd",
   "execution_count": 1,
   "outputs": [
    {
     "name": "stdout",
     "text": "Requirement already satisfied: pandas==1.2.4 in /shared-libs/python3.9/py/lib/python3.9/site-packages (from -r requirements.txt (line 1)) (1.2.4)\nRequirement already satisfied: pytz>=2017.3 in /shared-libs/python3.9/py/lib/python3.9/site-packages (from pandas==1.2.4->-r requirements.txt (line 1)) (2021.1)\nRequirement already satisfied: python-dateutil>=2.7.3 in /shared-libs/python3.9/py-core/lib/python3.9/site-packages (from pandas==1.2.4->-r requirements.txt (line 1)) (2.8.1)\nRequirement already satisfied: numpy>=1.16.5 in /shared-libs/python3.9/py/lib/python3.9/site-packages (from pandas==1.2.4->-r requirements.txt (line 1)) (1.20.3)\nRequirement already satisfied: six>=1.5 in /shared-libs/python3.9/py-core/lib/python3.9/site-packages (from python-dateutil>=2.7.3->pandas==1.2.4->-r requirements.txt (line 1)) (1.16.0)\n\u001b[33mWARNING: Running pip as root will break packages and permissions. You should install packages reliably by using venv: https://pip.pypa.io/warnings/venv\u001b[0m\nNote: you may need to restart the kernel to use updated packages.\n",
     "output_type": "stream"
    }
   ]
  },
  {
   "cell_type": "markdown",
   "source": "## Processor types\n\nProcessors are grouped into types by each vendor e.g. Intel Broadwell CPUs. Cloud providers provide the CPU types for each of their instance types, but not the precise CPU details. As such, we calculate the average wattage by processor type.",
   "metadata": {
    "tags": [],
    "cell_id": "00003-75c2fcce-9162-419d-9d58-6c99359ca4a0",
    "deepnote_cell_type": "markdown"
   }
  },
  {
   "cell_type": "code",
   "source": "# Loads a CSV file then returns each row appended to an array\ndef load_append_data(file_name):\n    with open(f'data/{file_name}', 'r') as csvfile:\n        reader = csv.reader(csvfile)\n\n        data = []\n        for row in reader:\n            data.append(row[0])\n        \n        return data\n\ncpus_intel_sandybridge = load_append_data('intel-sandybridge.csv')\ncpus_intel_ivybridge = load_append_data('intel-ivybridge.csv')\ncpus_intel_haswell = load_append_data('intel-haswell.csv')\ncpus_intel_broadwell = load_append_data('intel-broadwell.csv')\ncpus_intel_skylake = load_append_data('intel-skylake.csv')\ncpus_intel_cascadelake = load_append_data('intel-cascadelake.csv')\ncpus_intel_coffeelake = load_append_data('intel-coffeelake.csv')",
   "metadata": {
    "tags": [],
    "cell_id": "00004-0681c559-1bdf-41e8-89a2-f027601bc883",
    "deepnote_to_be_reexecuted": false,
    "source_hash": "9a533369",
    "execution_start": 1623526009119,
    "execution_millis": 9,
    "deepnote_cell_type": "code"
   },
   "outputs": [],
   "execution_count": 2
  },
  {
   "cell_type": "markdown",
   "source": "## Processor lists\n\nNow we know which processors are in which type, we can group all the tested servers by their CPU type to calculate: average idle watts, average watts at 100% utilization, average GB/chip.",
   "metadata": {
    "tags": [],
    "cell_id": "00005-db40944d-20c4-40a4-9bf0-ea23dceba42d",
    "deepnote_cell_type": "markdown"
   }
  },
  {
   "cell_type": "code",
   "source": "# Load all servers from SPECpower results CSV\nservers = pd.read_csv('data/SPECpower-full-results.csv', na_values=['NC'])",
   "metadata": {
    "tags": [],
    "cell_id": "00006-b89060db-ad18-4b2f-8a27-7474db756fa5",
    "deepnote_to_be_reexecuted": false,
    "source_hash": "e397b0d6",
    "execution_start": 1623526009139,
    "execution_millis": 13,
    "deepnote_cell_type": "code"
   },
   "outputs": [],
   "execution_count": 3
  },
  {
   "cell_type": "markdown",
   "source": "### Intel: Sandy Bridge",
   "metadata": {
    "tags": [],
    "cell_id": "00007-d171c681-61e3-4e0e-90a0-2757d69b61c2",
    "deepnote_cell_type": "markdown"
   }
  },
  {
   "cell_type": "code",
   "source": "servers_intel_sandybridge = servers[servers['CPU Description'].str.contains('|'.join(cpus_intel_sandybridge))]\n\nintel_sandybridge = {}\nintel_sandybridge['idle_watts'] = (servers_intel_sandybridge['avg. watts @ active idle'].astype(float) / servers_intel_sandybridge['Total Threads']).mean()\nintel_sandybridge['100% watts'] = (servers_intel_sandybridge['avg. watts @ 100%'].astype(float) / servers_intel_sandybridge['Total Threads']).mean()\nintel_sandybridge['GB/Chip'] = (servers_intel_sandybridge['Total Memory (GB)'] / servers_intel_sandybridge['Chips']).mean()\nintel_sandybridge",
   "metadata": {
    "tags": [],
    "cell_id": "00010-6c076149-b7e1-41c9-9f3f-d2b29f14b5db",
    "deepnote_to_be_reexecuted": false,
    "source_hash": "e3f68ad9",
    "allow_embed": false,
    "execution_start": 1623526009166,
    "execution_millis": 59,
    "deepnote_cell_type": "code"
   },
   "outputs": [
    {
     "output_type": "execute_result",
     "execution_count": 4,
     "data": {
      "text/plain": "{'idle_watts': 2.212455527435446,\n '100% watts': 8.460144657004527,\n 'GB/Chip': 16.25294117647059}"
     },
     "metadata": {}
    }
   ],
   "execution_count": 4
  },
  {
   "cell_type": "markdown",
   "source": "### Intel: Ivy Bridge",
   "metadata": {
    "tags": [],
    "cell_id": "00008-634290e8-e711-476c-8bf6-9cdf4d58a406",
    "deepnote_cell_type": "markdown"
   }
  },
  {
   "cell_type": "code",
   "source": "servers_intel_ivybridge = servers[servers['CPU Description'].str.contains('|'.join(cpus_intel_ivybridge))]\n\nintel_ivybridge = {}\nintel_ivybridge['idle_watts'] = (servers_intel_ivybridge['avg. watts @ active idle'].astype(float) / servers_intel_ivybridge['Total Threads']).mean()\nintel_ivybridge['100% watts'] = (servers_intel_ivybridge['avg. watts @ 100%'].astype(float) / servers_intel_ivybridge['Total Threads']).mean()\nintel_ivybridge['GB/Chip'] = (servers_intel_ivybridge['Total Memory (GB)'] / servers_intel_ivybridge['Chips']).mean()\nintel_ivybridge",
   "metadata": {
    "tags": [],
    "cell_id": "00008-acf36f9b-0eeb-4d0d-8cc6-7b4d4d586946",
    "deepnote_to_be_reexecuted": false,
    "source_hash": "c58c5dc3",
    "execution_start": 1623526009232,
    "execution_millis": 10,
    "deepnote_cell_type": "code"
   },
   "outputs": [
    {
     "output_type": "execute_result",
     "execution_count": 5,
     "data": {
      "text/plain": "{'idle_watts': 4.107881944444444,\n '100% watts': 9.415972222222223,\n 'GB/Chip': 16.32}"
     },
     "metadata": {}
    }
   ],
   "execution_count": 5
  },
  {
   "cell_type": "markdown",
   "source": "### Intel: Haswell",
   "metadata": {
    "tags": [],
    "cell_id": "00008-15a73303-9813-4526-87e9-848e452851a3",
    "deepnote_cell_type": "markdown"
   }
  },
  {
   "cell_type": "code",
   "source": "servers_intel_haswell = servers[servers['CPU Description'].str.contains('|'.join(cpus_intel_haswell))]\n\nintel_haswell = {}\nintel_haswell['idle_watts'] = (servers_intel_haswell['avg. watts @ active idle'].astype(float) / servers_intel_haswell['Total Threads']).mean()\nintel_haswell['100% watts'] = (servers_intel_haswell['avg. watts @ 100%'].astype(float) / servers_intel_haswell['Total Threads']).mean()\nintel_haswell['GB/Chip'] = (servers_intel_haswell['Total Memory (GB)'] / servers_intel_haswell['Chips']).mean()\nintel_haswell",
   "metadata": {
    "tags": [],
    "cell_id": "00010-4ad36932-befa-47ea-b38e-db9201a015f0",
    "deepnote_to_be_reexecuted": false,
    "source_hash": "4af774b2",
    "allow_embed": false,
    "execution_start": 1623526009294,
    "execution_millis": 4,
    "deepnote_cell_type": "code"
   },
   "outputs": [
    {
     "output_type": "execute_result",
     "execution_count": 6,
     "data": {
      "text/plain": "{'idle_watts': 0.9512500000000002,\n '100% watts': 4.694826388888889,\n 'GB/Chip': 28.16}"
     },
     "metadata": {}
    }
   ],
   "execution_count": 6
  },
  {
   "cell_type": "markdown",
   "source": "### Intel: Broadwell",
   "metadata": {
    "tags": [],
    "cell_id": "00008-46b9bb7e-24f0-4cdf-8bf3-b588f98b275a",
    "deepnote_cell_type": "markdown"
   }
  },
  {
   "cell_type": "code",
   "source": "servers_intel_broadwell = servers[servers['CPU Description'].str.contains('|'.join(cpus_intel_broadwell))]\n\nintel_broadwell = {}\nintel_broadwell['idle_watts'] = (servers_intel_broadwell['avg. watts @ active idle'].astype(float) / servers_intel_broadwell['Total Threads']).mean()\nintel_broadwell['100% watts'] = (servers_intel_broadwell['avg. watts @ 100%'].astype(float) / servers_intel_broadwell['Total Threads']).mean()\nintel_broadwell['GB/Chip'] = (servers_intel_broadwell['Total Memory (GB)'] / servers_intel_broadwell['Chips']).mean()\nintel_broadwell",
   "metadata": {
    "tags": [],
    "cell_id": "00010-da2a934a-41b2-41ce-984b-0e02a8cd407b",
    "deepnote_to_be_reexecuted": false,
    "source_hash": "4b66779a",
    "allow_embed": false,
    "execution_start": 1623526009294,
    "execution_millis": 49,
    "deepnote_cell_type": "code"
   },
   "outputs": [
    {
     "output_type": "execute_result",
     "execution_count": 7,
     "data": {
      "text/plain": "{'idle_watts': 0.7128342245989304,\n '100% watts': 3.6853275401069516,\n 'GB/Chip': 69.6470588235294}"
     },
     "metadata": {}
    }
   ],
   "execution_count": 7
  },
  {
   "cell_type": "markdown",
   "source": "### Intel: Sky Lake",
   "metadata": {
    "tags": [],
    "cell_id": "00008-91fe6896-5050-4356-afe8-2fd78257cd0f",
    "deepnote_cell_type": "markdown"
   }
  },
  {
   "cell_type": "code",
   "source": "servers_intel_skylake = servers[servers['CPU Description'].str.contains('|'.join(cpus_intel_skylake))]\n\nintel_skylake = {}\nintel_skylake['idle_watts'] = (servers_intel_skylake['avg. watts @ active idle'].astype(float) / servers_intel_skylake['Total Threads']).mean()\nintel_skylake['100% watts'] = (servers_intel_skylake['avg. watts @ 100%'].astype(float) / servers_intel_skylake['Total Threads']).mean()\nintel_skylake['GB/Chip'] = (servers_intel_skylake['Total Memory (GB)'] / servers_intel_skylake['Chips']).mean()\nintel_skylake",
   "metadata": {
    "tags": [],
    "cell_id": "00010-36735c0f-a581-4af5-ba6d-05e660f9737e",
    "deepnote_to_be_reexecuted": false,
    "source_hash": "8c13d09f",
    "allow_embed": false,
    "execution_start": 1623526009339,
    "execution_millis": 4,
    "deepnote_cell_type": "code"
   },
   "outputs": [
    {
     "output_type": "execute_result",
     "execution_count": 8,
     "data": {
      "text/plain": "{'idle_watts': 0.6385993209281899,\n '100% watts': 4.150080573728887,\n 'GB/Chip': 80.78571428571429}"
     },
     "metadata": {}
    }
   ],
   "execution_count": 8
  },
  {
   "cell_type": "markdown",
   "source": "### Intel: Cascade Lake",
   "metadata": {
    "tags": [],
    "cell_id": "00008-edf81ea5-637b-4a57-ba14-1db722349558",
    "deepnote_cell_type": "markdown"
   }
  },
  {
   "cell_type": "code",
   "source": "servers_intel_cascadelake = servers[servers['CPU Description'].str.contains('|'.join(cpus_intel_cascadelake))]\n\nintel_cascadelake = {}\nintel_cascadelake['idle_watts'] = (servers_intel_cascadelake['avg. watts @ active idle'].astype(float) / servers_intel_cascadelake['Total Threads']).mean()\nintel_cascadelake['100% watts'] = (servers_intel_cascadelake['avg. watts @ 100%'].astype(float) / servers_intel_cascadelake['Total Threads']).mean()\nintel_cascadelake['GB/Chip'] = (servers_intel_cascadelake['Total Memory (GB)'] / servers_intel_cascadelake['Chips']).mean()\nintel_cascadelake",
   "metadata": {
    "tags": [],
    "cell_id": "00010-ba0a1bb4-0adc-4768-bd73-fbba19661e74",
    "deepnote_to_be_reexecuted": false,
    "source_hash": "8189f265",
    "allow_embed": false,
    "execution_start": 1623526009382,
    "execution_millis": 7,
    "deepnote_cell_type": "code"
   },
   "outputs": [
    {
     "output_type": "execute_result",
     "execution_count": 9,
     "data": {
      "text/plain": "{'idle_watts': 0.6349836281915363,\n '100% watts': 3.957907252186588,\n 'GB/Chip': 97.37142857142857}"
     },
     "metadata": {}
    }
   ],
   "execution_count": 9
  },
  {
   "cell_type": "markdown",
   "source": "### Intel: Coffee Lake",
   "metadata": {
    "tags": [],
    "cell_id": "00008-2ea2b48e-5000-450c-80c7-712a5946202a",
    "deepnote_cell_type": "markdown"
   }
  },
  {
   "cell_type": "code",
   "source": "servers_intel_coffeelake = servers[servers['CPU Description'].str.contains('|'.join(cpus_intel_coffeelake))]\n\nintel_coffeelake = {}\nintel_coffeelake['idle_watts'] = (servers_intel_coffeelake['avg. watts @ active idle'].astype(float) / servers_intel_coffeelake['Total Threads']).mean()\nintel_coffeelake['100% watts'] = (servers_intel_coffeelake['avg. watts @ 100%'].astype(float) / servers_intel_coffeelake['Total Threads']).mean()\nintel_coffeelake['GB/Chip'] = (servers_intel_coffeelake['Total Memory (GB)'] / servers_intel_coffeelake['Chips']).mean()\nintel_coffeelake",
   "metadata": {
    "tags": [],
    "cell_id": "00009-a23988b8-dce7-4510-8aec-dbc2a1bca206",
    "deepnote_to_be_reexecuted": false,
    "source_hash": "174fd348",
    "allow_embed": false,
    "execution_start": 1623526009383,
    "execution_millis": 8,
    "deepnote_cell_type": "code"
   },
   "outputs": [
    {
     "output_type": "execute_result",
     "execution_count": 10,
     "data": {
      "text/plain": "{'idle_watts': 1.138425925925926,\n '100% watts': 5.421759259259258,\n 'GB/Chip': 19.555555555555557}"
     },
     "metadata": {}
    }
   ],
   "execution_count": 10
  },
  {
   "cell_type": "markdown",
   "source": "<a style='text-decoration:none;line-height:16px;display:flex;color:#5B5B62;padding:10px;justify-content:end;' href='https://deepnote.com?utm_source=created-in-deepnote-cell&projectId=2bb85156-92ac-4c34-9a24-94671c8f593c' target=\"_blank\">\n<img alt='Created in deepnote.com' style='display:inline;max-height:16px;margin:0px;margin-right:7.5px;' src='data:image/svg+xml;base64,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' > </img>\nCreated in <span style='font-weight:600;margin-left:4px;'>Deepnote</span></a>",
   "metadata": {
    "tags": [],
    "created_in_deepnote_cell": true,
    "deepnote_cell_type": "markdown"
   }
  }
 ],
 "nbformat": 4,
 "nbformat_minor": 2,
 "metadata": {
  "orig_nbformat": 2,
  "deepnote": {
   "is_reactive": false
  },
  "deepnote_notebook_id": "12ca549f-374b-4ae3-a3fd-1c755a20e197",
  "deepnote_execution_queue": []
 }
}