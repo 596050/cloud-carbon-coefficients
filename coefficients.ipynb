{
 "cells": [
  {
   "cell_type": "markdown",
   "source": "# Cloud Carbon Coefficients\n\nThis notebook calculates the coefficients used in [Cloud Carbon Footprint](https://www.cloudcarbonfootprint.org/), an application that estimates the energy (kilowatt hours) and carbon emissions (metric tons CO2e) from public cloud provider utilization.\n\nThese values are based on the [SPECpower_ssj2008 results](https://www.spec.org/power_ssj2008/results/). New data is released every quarter so this notebook helps calculate updated coefficients. The full results are in [data/](data/).",
   "metadata": {
    "tags": [],
    "cell_id": "00000-8646918d-c506-4d18-b057-3b5bb2e22266",
    "deepnote_cell_type": "markdown"
   }
  },
  {
   "cell_type": "markdown",
   "source": "#### Imports",
   "metadata": {
    "tags": [],
    "cell_id": "00001-f09ac78b-3251-466f-bab5-4c70958818e1",
    "deepnote_cell_type": "markdown"
   }
  },
  {
   "cell_type": "code",
   "metadata": {
    "tags": [],
    "cell_id": "00000-81948d95-fe93-4df9-b019-6c77253d192c",
    "deepnote_to_be_reexecuted": false,
    "source_hash": "6847ec8f",
    "execution_start": 1624775513045,
    "execution_millis": 3645,
    "deepnote_cell_type": "code"
   },
   "source": "%pip install -r requirements.txt\n\nimport csv\nimport numpy as np\nimport pandas as pd",
   "execution_count": 1,
   "outputs": [
    {
     "name": "stdout",
     "text": "Requirement already satisfied: pandas==1.2.4 in /shared-libs/python3.9/py/lib/python3.9/site-packages (from -r requirements.txt (line 1)) (1.2.4)\nRequirement already satisfied: numpy>=1.16.5 in /shared-libs/python3.9/py/lib/python3.9/site-packages (from pandas==1.2.4->-r requirements.txt (line 1)) (1.20.3)\nRequirement already satisfied: python-dateutil>=2.7.3 in /shared-libs/python3.9/py-core/lib/python3.9/site-packages (from pandas==1.2.4->-r requirements.txt (line 1)) (2.8.1)\nRequirement already satisfied: pytz>=2017.3 in /shared-libs/python3.9/py/lib/python3.9/site-packages (from pandas==1.2.4->-r requirements.txt (line 1)) (2021.1)\nRequirement already satisfied: six>=1.5 in /shared-libs/python3.9/py-core/lib/python3.9/site-packages (from python-dateutil>=2.7.3->pandas==1.2.4->-r requirements.txt (line 1)) (1.16.0)\n\u001b[33mWARNING: Running pip as root will break packages and permissions. You should install packages reliably by using venv: https://pip.pypa.io/warnings/venv\u001b[0m\n\u001b[33mWARNING: You are using pip version 21.1.2; however, version 21.1.3 is available.\nYou should consider upgrading via the '/usr/local/bin/python -m pip install --upgrade pip' command.\u001b[0m\nNote: you may need to restart the kernel to use updated packages.\n",
     "output_type": "stream"
    }
   ]
  },
  {
   "cell_type": "markdown",
   "source": "## Processor types\n\nProcessors are grouped into types by each vendor e.g. Intel Broadwell CPUs. Cloud providers provide the CPU types for each of their instance types, but not the precise CPU details. As such, we calculate the average wattage by processor type.",
   "metadata": {
    "tags": [],
    "cell_id": "00003-75c2fcce-9162-419d-9d58-6c99359ca4a0",
    "deepnote_cell_type": "markdown"
   }
  },
  {
   "cell_type": "code",
   "metadata": {
    "tags": [],
    "cell_id": "00004-0681c559-1bdf-41e8-89a2-f027601bc883",
    "deepnote_to_be_reexecuted": false,
    "source_hash": "9a533369",
    "execution_start": 1624775516694,
    "execution_millis": 17,
    "deepnote_cell_type": "code"
   },
   "source": "# Loads a CSV file then returns each row appended to an array\ndef load_append_data(file_name):\n    with open(f'data/{file_name}', 'r') as csvfile:\n        reader = csv.reader(csvfile)\n\n        data = []\n        for row in reader:\n            data.append(row[0])\n        \n        return data\n\ncpus_intel_sandybridge = load_append_data('intel-sandybridge.csv')\ncpus_intel_ivybridge = load_append_data('intel-ivybridge.csv')\ncpus_intel_haswell = load_append_data('intel-haswell.csv')\ncpus_intel_broadwell = load_append_data('intel-broadwell.csv')\ncpus_intel_skylake = load_append_data('intel-skylake.csv')\ncpus_intel_cascadelake = load_append_data('intel-cascadelake.csv')\ncpus_intel_coffeelake = load_append_data('intel-coffeelake.csv')",
   "execution_count": 2,
   "outputs": []
  },
  {
   "cell_type": "markdown",
   "source": "## Processor lists\n\nNow we know which processors are in which type, we can group all the tested servers by their CPU type to calculate: average idle watts, average watts at 100% utilization, average GB/chip.",
   "metadata": {
    "tags": [],
    "cell_id": "00005-db40944d-20c4-40a4-9bf0-ea23dceba42d",
    "deepnote_cell_type": "markdown"
   }
  },
  {
   "cell_type": "code",
   "metadata": {
    "tags": [],
    "cell_id": "00006-b89060db-ad18-4b2f-8a27-7474db756fa5",
    "deepnote_to_be_reexecuted": false,
    "source_hash": "e397b0d6",
    "execution_start": 1624775516714,
    "execution_millis": 16,
    "deepnote_cell_type": "code"
   },
   "source": "# Load all servers from SPECpower results CSV\nservers = pd.read_csv('data/SPECpower-full-results.csv', na_values=['NC'])",
   "execution_count": 3,
   "outputs": []
  },
  {
   "cell_type": "markdown",
   "source": "#### Regex match\n\nThe regex to match the CPU names matches to the end of the line using `$` because some chips have version numbers after, so we can't just do a substring match e.g. `Intel E3-1230` is a Sandy Bridge chip but `Intel E3-1230 v3` is Haswell. It is case insensitive due to the use of `v3` and `V3` inconsistently in the definitions.\n\n#### Clean data\n\nThe SPECpower results often appends extra info to the `CPU Description` column which is unecessary. For example, `Intel Xeon E5-2470 (Intel Turbo Boost Technology up to 3.10 GHz)`. This extra info needs to be stripped e.g. to `Intel Xeon E5-2470` otherwise the regex match will not work.\n\nThe check below will error if the data is not clean.",
   "metadata": {
    "tags": [],
    "cell_id": "00007-2e31f1f8-a36f-44f3-821c-d29884209fa9",
    "deepnote_cell_type": "markdown"
   }
  },
  {
   "cell_type": "code",
   "metadata": {
    "tags": [],
    "cell_id": "00008-738bc5cd-aa52-43bb-96d6-45a0b0d6e6df",
    "deepnote_to_be_reexecuted": false,
    "source_hash": "97084bc5",
    "execution_start": 1624775516742,
    "execution_millis": 3,
    "deepnote_cell_type": "code"
   },
   "source": "if len(servers[servers['CPU Description'].str.contains('Ghz')]) > 0:\n    print('Data not clean')\n    import sys\n    sys.exit(1)",
   "execution_count": 4,
   "outputs": []
  },
  {
   "cell_type": "markdown",
   "source": "### Intel: Sandy Bridge",
   "metadata": {
    "tags": [],
    "cell_id": "00007-d171c681-61e3-4e0e-90a0-2757d69b61c2",
    "deepnote_cell_type": "markdown"
   }
  },
  {
   "cell_type": "code",
   "metadata": {
    "tags": [],
    "cell_id": "00010-6c076149-b7e1-41c9-9f3f-d2b29f14b5db",
    "deepnote_to_be_reexecuted": false,
    "source_hash": "b347d5ed",
    "allow_embed": false,
    "execution_start": 1624776841970,
    "execution_millis": 18,
    "deepnote_cell_type": "code"
   },
   "source": "# Construct regex to match the chip name exactly to the end of the line\n# (See notes above on regex and clean data)\ncpus_re = [rf'(?i)(\\b{string}$)' for string in cpus_intel_sandybridge]\nservers_intel_sandybridge = servers[servers['CPU Description'].str.contains('|'.join(cpus_re))]\n\nintel_sandybridge = {}\nintel_sandybridge['idle_watts'] = (servers_intel_sandybridge['avg. watts @ active idle'].astype(float) / servers_intel_sandybridge['Total Threads']).mean()\nintel_sandybridge['100% watts'] = (servers_intel_sandybridge['avg. watts @ 100%'].astype(float) / servers_intel_sandybridge['Total Threads']).mean()\nintel_sandybridge['GB/Chip'] = (servers_intel_sandybridge['Total Memory (GB)'] / servers_intel_sandybridge['Chips']).mean()\nintel_sandybridge",
   "execution_count": 18,
   "outputs": [
    {
     "name": "stderr",
     "text": "/shared-libs/python3.9/py/lib/python3.9/site-packages/pandas/core/strings/accessor.py:101: UserWarning: This pattern has match groups. To actually get the groups, use str.extract.\n  return func(self, *args, **kwargs)\n",
     "output_type": "stream"
    },
    {
     "output_type": "execute_result",
     "execution_count": 18,
     "data": {
      "text/plain": "{'idle_watts': 2.1694411458333334,\n '100% watts': 8.575357663690477,\n 'GB/Chip': 16.480916030534353}"
     },
     "metadata": {}
    }
   ]
  },
  {
   "cell_type": "markdown",
   "source": "### Intel: Ivy Bridge",
   "metadata": {
    "tags": [],
    "cell_id": "00008-634290e8-e711-476c-8bf6-9cdf4d58a406",
    "deepnote_cell_type": "markdown"
   }
  },
  {
   "cell_type": "code",
   "metadata": {
    "tags": [],
    "cell_id": "00008-acf36f9b-0eeb-4d0d-8cc6-7b4d4d586946",
    "deepnote_to_be_reexecuted": false,
    "source_hash": "1160a353",
    "execution_start": 1624778278878,
    "execution_millis": 47,
    "deepnote_cell_type": "code"
   },
   "source": "# Construct regex to match the chip name exactly to the end of the line\n# (See notes above on regex and clean data)\ncpus_re = [rf'(?i)(\\b{string}$)' for string in cpus_intel_ivybridge]\nservers_intel_ivybridge = servers[servers['CPU Description'].str.contains('|'.join(cpus_re))]\n\nintel_ivybridge = {}\nintel_ivybridge['idle_watts'] = (servers_intel_ivybridge['avg. watts @ active idle'].astype(float) / servers_intel_ivybridge['Total Threads']).mean()\nintel_ivybridge['100% watts'] = (servers_intel_ivybridge['avg. watts @ 100%'].astype(float) / servers_intel_ivybridge['Total Threads']).mean()\nintel_ivybridge['GB/Chip'] = (servers_intel_ivybridge['Total Memory (GB)'] / servers_intel_ivybridge['Chips']).mean()\nintel_ivybridge",
   "execution_count": 33,
   "outputs": [
    {
     "name": "stderr",
     "text": "/shared-libs/python3.9/py/lib/python3.9/site-packages/pandas/core/strings/accessor.py:101: UserWarning: This pattern has match groups. To actually get the groups, use str.extract.\n  return func(self, *args, **kwargs)\n",
     "output_type": "stream"
    },
    {
     "output_type": "execute_result",
     "execution_count": 33,
     "data": {
      "text/plain": "{'idle_watts': 3.0369270833333335,\n '100% watts': 8.248611111111112,\n 'GB/Chip': 14.933333333333334}"
     },
     "metadata": {}
    }
   ]
  },
  {
   "cell_type": "markdown",
   "source": "### Intel: Haswell",
   "metadata": {
    "tags": [],
    "cell_id": "00008-15a73303-9813-4526-87e9-848e452851a3",
    "deepnote_cell_type": "markdown"
   }
  },
  {
   "cell_type": "code",
   "metadata": {
    "tags": [],
    "cell_id": "00010-4ad36932-befa-47ea-b38e-db9201a015f0",
    "deepnote_to_be_reexecuted": false,
    "source_hash": "26df8943",
    "allow_embed": false,
    "execution_start": 1624778285982,
    "execution_millis": 88,
    "deepnote_cell_type": "code"
   },
   "source": "# Construct regex to match the chip name exactly to the end of the line\n# (See notes above on regex and clean data)\ncpus_re = [rf'(?i)(\\b{string}$)' for string in cpus_intel_haswell]\nservers_intel_haswell = servers[servers['CPU Description'].str.contains('|'.join(cpus_re))]\n\nintel_haswell = {}\nintel_haswell['idle_watts'] = (servers_intel_haswell['avg. watts @ active idle'].astype(float) / servers_intel_haswell['Total Threads']).mean()\nintel_haswell['100% watts'] = (servers_intel_haswell['avg. watts @ 100%'].astype(float) / servers_intel_haswell['Total Threads']).mean()\nintel_haswell['GB/Chip'] = (servers_intel_haswell['Total Memory (GB)'] / servers_intel_haswell['Chips']).mean()\nintel_haswell",
   "execution_count": 34,
   "outputs": [
    {
     "output_type": "execute_result",
     "execution_count": 34,
     "data": {
      "text/plain": "{'idle_watts': 1.0005952380952383,\n '100% watts': 4.739715608465608,\n 'GB/Chip': 27.714285714285715}"
     },
     "metadata": {}
    }
   ]
  },
  {
   "cell_type": "markdown",
   "source": "### Intel: Broadwell",
   "metadata": {
    "tags": [],
    "cell_id": "00008-46b9bb7e-24f0-4cdf-8bf3-b588f98b275a",
    "deepnote_cell_type": "markdown"
   }
  },
  {
   "cell_type": "code",
   "metadata": {
    "tags": [],
    "cell_id": "00010-da2a934a-41b2-41ce-984b-0e02a8cd407b",
    "deepnote_to_be_reexecuted": false,
    "source_hash": "b49d8456",
    "allow_embed": false,
    "execution_start": 1624776919715,
    "execution_millis": 94,
    "deepnote_cell_type": "code"
   },
   "source": "# Construct regex to match the chip name exactly to the end of the line\n# (See notes above on regex and clean data)\ncpus_re = [rf'(?i)(\\b{string}$)' for string in cpus_intel_broadwell]\nservers_intel_broadwell = servers[servers['CPU Description'].str.contains('|'.join(cpus_re))]\n\nintel_broadwell = {}\nintel_broadwell['idle_watts'] = (servers_intel_broadwell['avg. watts @ active idle'].astype(float) / servers_intel_broadwell['Total Threads']).mean()\nintel_broadwell['100% watts'] = (servers_intel_broadwell['avg. watts @ 100%'].astype(float) / servers_intel_broadwell['Total Threads']).mean()\nintel_broadwell['GB/Chip'] = (servers_intel_broadwell['Total Memory (GB)'] / servers_intel_broadwell['Chips']).mean()\nintel_broadwell",
   "execution_count": 20,
   "outputs": [
    {
     "name": "stderr",
     "text": "/shared-libs/python3.9/py/lib/python3.9/site-packages/pandas/core/strings/accessor.py:101: UserWarning: This pattern has match groups. To actually get the groups, use str.extract.\n  return func(self, *args, **kwargs)\n",
     "output_type": "stream"
    },
    {
     "output_type": "execute_result",
     "execution_count": 20,
     "data": {
      "text/plain": "{'idle_watts': 0.7128342245989304,\n '100% watts': 3.6853275401069516,\n 'GB/Chip': 69.6470588235294}"
     },
     "metadata": {}
    }
   ]
  },
  {
   "cell_type": "markdown",
   "source": "### Intel: Sky Lake",
   "metadata": {
    "tags": [],
    "cell_id": "00008-91fe6896-5050-4356-afe8-2fd78257cd0f",
    "deepnote_cell_type": "markdown"
   }
  },
  {
   "cell_type": "code",
   "metadata": {
    "tags": [],
    "cell_id": "00010-36735c0f-a581-4af5-ba6d-05e660f9737e",
    "deepnote_to_be_reexecuted": false,
    "source_hash": "b811325d",
    "allow_embed": false,
    "execution_start": 1624777551498,
    "execution_millis": 63,
    "deepnote_cell_type": "code"
   },
   "source": "# Construct regex to match the chip name exactly to the end of the line\n# (See notes above on regex and clean data)\ncpus_re = [rf'(?i)(\\b{string}$)' for string in cpus_intel_skylake]\nservers_intel_skylake = servers[servers['CPU Description'].str.contains('|'.join(cpus_re))]\n\nintel_skylake = {}\nintel_skylake['idle_watts'] = (servers_intel_skylake['avg. watts @ active idle'].astype(float) / servers_intel_skylake['Total Threads']).mean()\nintel_skylake['100% watts'] = (servers_intel_skylake['avg. watts @ 100%'].astype(float) / servers_intel_skylake['Total Threads']).mean()\nintel_skylake['GB/Chip'] = (servers_intel_skylake['Total Memory (GB)'] / servers_intel_skylake['Chips']).mean()\nintel_skylake",
   "execution_count": 28,
   "outputs": [
    {
     "name": "stderr",
     "text": "/shared-libs/python3.9/py/lib/python3.9/site-packages/pandas/core/strings/accessor.py:101: UserWarning: This pattern has match groups. To actually get the groups, use str.extract.\n  return func(self, *args, **kwargs)\n",
     "output_type": "stream"
    },
    {
     "output_type": "execute_result",
     "execution_count": 28,
     "data": {
      "text/plain": "{'idle_watts': 0.6522727665317579,\n '100% watts': 4.255505654535773,\n 'GB/Chip': 81.32432432432432}"
     },
     "metadata": {}
    }
   ]
  },
  {
   "cell_type": "markdown",
   "source": "### Intel: Cascade Lake",
   "metadata": {
    "tags": [],
    "cell_id": "00008-edf81ea5-637b-4a57-ba14-1db722349558",
    "deepnote_cell_type": "markdown"
   }
  },
  {
   "cell_type": "code",
   "metadata": {
    "tags": [],
    "cell_id": "00010-ba0a1bb4-0adc-4768-bd73-fbba19661e74",
    "deepnote_to_be_reexecuted": false,
    "source_hash": "52636115",
    "allow_embed": false,
    "execution_start": 1624777605006,
    "execution_millis": 58,
    "deepnote_cell_type": "code"
   },
   "source": "# Construct regex to match the chip name exactly to the end of the line\n# (See notes above on regex and clean data)\ncpus_re = [rf'(?i)(\\b{string}$)' for string in cpus_intel_cascadelake]\nservers_intel_cascadelake = servers[servers['CPU Description'].str.contains('|'.join(cpus_re))]\n\nintel_cascadelake = {}\nintel_cascadelake['idle_watts'] = (servers_intel_cascadelake['avg. watts @ active idle'].astype(float) / servers_intel_cascadelake['Total Threads']).mean()\nintel_cascadelake['100% watts'] = (servers_intel_cascadelake['avg. watts @ 100%'].astype(float) / servers_intel_cascadelake['Total Threads']).mean()\nintel_cascadelake['GB/Chip'] = (servers_intel_cascadelake['Total Memory (GB)'] / servers_intel_cascadelake['Chips']).mean()\nintel_cascadelake",
   "execution_count": 30,
   "outputs": [
    {
     "name": "stderr",
     "text": "/shared-libs/python3.9/py/lib/python3.9/site-packages/pandas/core/strings/accessor.py:101: UserWarning: This pattern has match groups. To actually get the groups, use str.extract.\n  return func(self, *args, **kwargs)\n",
     "output_type": "stream"
    },
    {
     "output_type": "execute_result",
     "execution_count": 30,
     "data": {
      "text/plain": "{'idle_watts': 0.6389493581523519,\n '100% watts': 3.9673047343937564,\n 'GB/Chip': 98.11764705882354}"
     },
     "metadata": {}
    }
   ]
  },
  {
   "cell_type": "markdown",
   "source": "### Intel: Coffee Lake",
   "metadata": {
    "tags": [],
    "cell_id": "00008-2ea2b48e-5000-450c-80c7-712a5946202a",
    "deepnote_cell_type": "markdown"
   }
  },
  {
   "cell_type": "code",
   "metadata": {
    "tags": [],
    "cell_id": "00009-a23988b8-dce7-4510-8aec-dbc2a1bca206",
    "deepnote_to_be_reexecuted": false,
    "source_hash": "97439327",
    "allow_embed": false,
    "execution_start": 1624776989278,
    "execution_millis": 20,
    "deepnote_cell_type": "code"
   },
   "source": "# Construct regex to match the chip name exactly to the end of the line\n# (See notes above on regex and clean data)\ncpus_re = [rf'(?i)(\\b{string}$)' for string in cpus_intel_coffeelake]\nservers_intel_coffeelake = servers[servers['CPU Description'].str.contains('|'.join(cpus_re))]\n\nintel_coffeelake = {}\nintel_coffeelake['idle_watts'] = (servers_intel_coffeelake['avg. watts @ active idle'].astype(float) / servers_intel_coffeelake['Total Threads']).mean()\nintel_coffeelake['100% watts'] = (servers_intel_coffeelake['avg. watts @ 100%'].astype(float) / servers_intel_coffeelake['Total Threads']).mean()\nintel_coffeelake['GB/Chip'] = (servers_intel_coffeelake['Total Memory (GB)'] / servers_intel_coffeelake['Chips']).mean()\nintel_coffeelake",
   "execution_count": 23,
   "outputs": [
    {
     "output_type": "execute_result",
     "execution_count": 23,
     "data": {
      "text/plain": "{'idle_watts': 1.138425925925926,\n '100% watts': 5.421759259259258,\n 'GB/Chip': 19.555555555555557}"
     },
     "metadata": {}
    }
   ]
  },
  {
   "cell_type": "markdown",
   "source": "<a style='text-decoration:none;line-height:16px;display:flex;color:#5B5B62;padding:10px;justify-content:end;' href='https://deepnote.com?utm_source=created-in-deepnote-cell&projectId=2bb85156-92ac-4c34-9a24-94671c8f593c' target=\"_blank\">\n<img alt='Created in deepnote.com' style='display:inline;max-height:16px;margin:0px;margin-right:7.5px;' src='data:image/svg+xml;base64,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' > </img>\nCreated in <span style='font-weight:600;margin-left:4px;'>Deepnote</span></a>",
   "metadata": {
    "tags": [],
    "created_in_deepnote_cell": true,
    "deepnote_cell_type": "markdown"
   }
  }
 ],
 "nbformat": 4,
 "nbformat_minor": 2,
 "metadata": {
  "orig_nbformat": 2,
  "deepnote": {
   "is_reactive": false
  },
  "deepnote_notebook_id": "12ca549f-374b-4ae3-a3fd-1c755a20e197",
  "deepnote_execution_queue": []
 }
}